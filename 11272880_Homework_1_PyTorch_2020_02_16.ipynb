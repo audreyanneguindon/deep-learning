{
  "nbformat": 4,
  "nbformat_minor": 0,
  "metadata": {
    "colab": {
      "name": "11272880 - Homework 1 - PyTorch - 2020-02-16",
      "provenance": [],
      "collapsed_sections": []
    },
    "kernelspec": {
      "name": "python3",
      "display_name": "Python 3"
    },
    "accelerator": "GPU",
    "widgets": {
      "application/vnd.jupyter.widget-state+json": {
        "67eddc5654494b5ba8c96febce37a59f": {
          "model_module": "@jupyter-widgets/controls",
          "model_name": "HBoxModel",
          "state": {
            "_view_name": "HBoxView",
            "_dom_classes": [],
            "_model_name": "HBoxModel",
            "_view_module": "@jupyter-widgets/controls",
            "_model_module_version": "1.5.0",
            "_view_count": null,
            "_view_module_version": "1.5.0",
            "box_style": "",
            "layout": "IPY_MODEL_2e60131070e440c29266a9823ab9803a",
            "_model_module": "@jupyter-widgets/controls",
            "children": [
              "IPY_MODEL_bc29c0fd96894fadb41b167e53af5662",
              "IPY_MODEL_67b0195bfafc4a81b5cd5b03e1312a2a"
            ]
          }
        },
        "2e60131070e440c29266a9823ab9803a": {
          "model_module": "@jupyter-widgets/base",
          "model_name": "LayoutModel",
          "state": {
            "_view_name": "LayoutView",
            "grid_template_rows": null,
            "right": null,
            "justify_content": null,
            "_view_module": "@jupyter-widgets/base",
            "overflow": null,
            "_model_module_version": "1.2.0",
            "_view_count": null,
            "flex_flow": null,
            "width": null,
            "min_width": null,
            "border": null,
            "align_items": null,
            "bottom": null,
            "_model_module": "@jupyter-widgets/base",
            "top": null,
            "grid_column": null,
            "overflow_y": null,
            "overflow_x": null,
            "grid_auto_flow": null,
            "grid_area": null,
            "grid_template_columns": null,
            "flex": null,
            "_model_name": "LayoutModel",
            "justify_items": null,
            "grid_row": null,
            "max_height": null,
            "align_content": null,
            "visibility": null,
            "align_self": null,
            "height": null,
            "min_height": null,
            "padding": null,
            "grid_auto_rows": null,
            "grid_gap": null,
            "max_width": null,
            "order": null,
            "_view_module_version": "1.2.0",
            "grid_template_areas": null,
            "object_position": null,
            "object_fit": null,
            "grid_auto_columns": null,
            "margin": null,
            "display": null,
            "left": null
          }
        },
        "bc29c0fd96894fadb41b167e53af5662": {
          "model_module": "@jupyter-widgets/controls",
          "model_name": "IntProgressModel",
          "state": {
            "_view_name": "ProgressView",
            "style": "IPY_MODEL_b0414d1f1ada4062ad05c3894bf78ed0",
            "_dom_classes": [],
            "description": "",
            "_model_name": "IntProgressModel",
            "bar_style": "success",
            "max": 1,
            "_view_module": "@jupyter-widgets/controls",
            "_model_module_version": "1.5.0",
            "value": 1,
            "_view_count": null,
            "_view_module_version": "1.5.0",
            "orientation": "horizontal",
            "min": 0,
            "description_tooltip": null,
            "_model_module": "@jupyter-widgets/controls",
            "layout": "IPY_MODEL_77a4cd122deb4225988a8ca838ff8f96"
          }
        },
        "67b0195bfafc4a81b5cd5b03e1312a2a": {
          "model_module": "@jupyter-widgets/controls",
          "model_name": "HTMLModel",
          "state": {
            "_view_name": "HTMLView",
            "style": "IPY_MODEL_d0c6f1ea20614fb28c5b9afc44f0c399",
            "_dom_classes": [],
            "description": "",
            "_model_name": "HTMLModel",
            "placeholder": "​",
            "_view_module": "@jupyter-widgets/controls",
            "_model_module_version": "1.5.0",
            "value": "170500096it [00:02, 70334130.47it/s]",
            "_view_count": null,
            "_view_module_version": "1.5.0",
            "description_tooltip": null,
            "_model_module": "@jupyter-widgets/controls",
            "layout": "IPY_MODEL_c1bef6376d3a4dc5bd3957e1c67d61e9"
          }
        },
        "b0414d1f1ada4062ad05c3894bf78ed0": {
          "model_module": "@jupyter-widgets/controls",
          "model_name": "ProgressStyleModel",
          "state": {
            "_view_name": "StyleView",
            "_model_name": "ProgressStyleModel",
            "description_width": "",
            "_view_module": "@jupyter-widgets/base",
            "_model_module_version": "1.5.0",
            "_view_count": null,
            "_view_module_version": "1.2.0",
            "bar_color": null,
            "_model_module": "@jupyter-widgets/controls"
          }
        },
        "77a4cd122deb4225988a8ca838ff8f96": {
          "model_module": "@jupyter-widgets/base",
          "model_name": "LayoutModel",
          "state": {
            "_view_name": "LayoutView",
            "grid_template_rows": null,
            "right": null,
            "justify_content": null,
            "_view_module": "@jupyter-widgets/base",
            "overflow": null,
            "_model_module_version": "1.2.0",
            "_view_count": null,
            "flex_flow": null,
            "width": null,
            "min_width": null,
            "border": null,
            "align_items": null,
            "bottom": null,
            "_model_module": "@jupyter-widgets/base",
            "top": null,
            "grid_column": null,
            "overflow_y": null,
            "overflow_x": null,
            "grid_auto_flow": null,
            "grid_area": null,
            "grid_template_columns": null,
            "flex": null,
            "_model_name": "LayoutModel",
            "justify_items": null,
            "grid_row": null,
            "max_height": null,
            "align_content": null,
            "visibility": null,
            "align_self": null,
            "height": null,
            "min_height": null,
            "padding": null,
            "grid_auto_rows": null,
            "grid_gap": null,
            "max_width": null,
            "order": null,
            "_view_module_version": "1.2.0",
            "grid_template_areas": null,
            "object_position": null,
            "object_fit": null,
            "grid_auto_columns": null,
            "margin": null,
            "display": null,
            "left": null
          }
        },
        "d0c6f1ea20614fb28c5b9afc44f0c399": {
          "model_module": "@jupyter-widgets/controls",
          "model_name": "DescriptionStyleModel",
          "state": {
            "_view_name": "StyleView",
            "_model_name": "DescriptionStyleModel",
            "description_width": "",
            "_view_module": "@jupyter-widgets/base",
            "_model_module_version": "1.5.0",
            "_view_count": null,
            "_view_module_version": "1.2.0",
            "_model_module": "@jupyter-widgets/controls"
          }
        },
        "c1bef6376d3a4dc5bd3957e1c67d61e9": {
          "model_module": "@jupyter-widgets/base",
          "model_name": "LayoutModel",
          "state": {
            "_view_name": "LayoutView",
            "grid_template_rows": null,
            "right": null,
            "justify_content": null,
            "_view_module": "@jupyter-widgets/base",
            "overflow": null,
            "_model_module_version": "1.2.0",
            "_view_count": null,
            "flex_flow": null,
            "width": null,
            "min_width": null,
            "border": null,
            "align_items": null,
            "bottom": null,
            "_model_module": "@jupyter-widgets/base",
            "top": null,
            "grid_column": null,
            "overflow_y": null,
            "overflow_x": null,
            "grid_auto_flow": null,
            "grid_area": null,
            "grid_template_columns": null,
            "flex": null,
            "_model_name": "LayoutModel",
            "justify_items": null,
            "grid_row": null,
            "max_height": null,
            "align_content": null,
            "visibility": null,
            "align_self": null,
            "height": null,
            "min_height": null,
            "padding": null,
            "grid_auto_rows": null,
            "grid_gap": null,
            "max_width": null,
            "order": null,
            "_view_module_version": "1.2.0",
            "grid_template_areas": null,
            "object_position": null,
            "object_fit": null,
            "grid_auto_columns": null,
            "margin": null,
            "display": null,
            "left": null
          }
        }
      }
    }
  },
  "cells": [
    {
      "cell_type": "markdown",
      "metadata": {
        "id": "Z_LTBtfMBvW_",
        "colab_type": "text"
      },
      "source": [
        "# Machine Learning II: Deep Learning and Applications\n",
        "# Homework 1\n",
        "\n",
        "**Due date: Feb 16**\n",
        "\n",
        "### Instructions\n",
        "- Make a copy of this notebook in your own Colab and complete the questions there.\n",
        "- You can add more cells if necessary. You may also add descriptions to your code, though it is not mandatory.\n",
        "- Make sure the notebook can run through by *Runtime -> Run all*. **Keep all cell outputs** for grading.\n",
        "- Submit the link of your notebook [here](https://docs.google.com/forms/d/e/1FAIpQLSd3LoRVwJ1Nc8hogOv76Y6_JbfPTdRzxUNfaU1ZV9GVaIZDSA/viewform?usp=sf_link). Please **enable editing or comments** so that you can receive feedback from TAs."
      ]
    },
    {
      "cell_type": "markdown",
      "metadata": {
        "id": "T33dD1e8tii2",
        "colab_type": "text"
      },
      "source": [
        "Install PyTorch and Skorch."
      ]
    },
    {
      "cell_type": "code",
      "metadata": {
        "id": "pJB3VQYDCUmh",
        "colab_type": "code",
        "outputId": "e99d497b-3424-4914-f1cb-7ee850b6b833",
        "colab": {
          "base_uri": "https://localhost:8080/",
          "height": 34
        }
      },
      "source": [
        "!pip install -q torch skorch torchvision torchtext"
      ],
      "execution_count": 0,
      "outputs": [
        {
          "output_type": "stream",
          "text": [
            "\u001b[?25l\r\u001b[K     |███                             | 10kB 33.0MB/s eta 0:00:01\r\u001b[K     |██████▏                         | 20kB 1.8MB/s eta 0:00:01\r\u001b[K     |█████████▎                      | 30kB 2.4MB/s eta 0:00:01\r\u001b[K     |████████████▍                   | 40kB 1.7MB/s eta 0:00:01\r\u001b[K     |███████████████▌                | 51kB 2.0MB/s eta 0:00:01\r\u001b[K     |██████████████████▌             | 61kB 2.3MB/s eta 0:00:01\r\u001b[K     |█████████████████████▋          | 71kB 2.5MB/s eta 0:00:01\r\u001b[K     |████████████████████████▊       | 81kB 2.7MB/s eta 0:00:01\r\u001b[K     |███████████████████████████▉    | 92kB 3.0MB/s eta 0:00:01\r\u001b[K     |███████████████████████████████ | 102kB 2.9MB/s eta 0:00:01\r\u001b[K     |████████████████████████████████| 112kB 2.9MB/s \n",
            "\u001b[?25h"
          ],
          "name": "stdout"
        }
      ]
    },
    {
      "cell_type": "code",
      "metadata": {
        "id": "3l_Dl6qxCXmv",
        "colab_type": "code",
        "outputId": "1a76d1fa-eed0-41c0-af1d-bd0a09205605",
        "colab": {
          "base_uri": "https://localhost:8080/",
          "height": 71
        }
      },
      "source": [
        "import torch\n",
        "import torch.nn as nn\n",
        "import torch.nn.functional as F\n",
        "import torch.optim as optim\n",
        "import torchvision\n",
        "import skorch\n",
        "import sklearn\n",
        "import numpy as np\n",
        "import matplotlib.pyplot as plt"
      ],
      "execution_count": 0,
      "outputs": [
        {
          "output_type": "stream",
          "text": [
            "/usr/local/lib/python3.6/dist-packages/sklearn/utils/deprecation.py:144: FutureWarning: The sklearn.metrics.scorer module is  deprecated in version 0.22 and will be removed in version 0.24. The corresponding classes / functions should instead be imported from sklearn.metrics. Anything that cannot be imported from sklearn.metrics is now part of the private API.\n",
            "  warnings.warn(message, FutureWarning)\n"
          ],
          "name": "stderr"
        }
      ]
    },
    {
      "cell_type": "markdown",
      "metadata": {
        "id": "uevQtU7NtZ_-",
        "colab_type": "text"
      },
      "source": [
        "## 1. Tensor Operations (20 points)\n",
        "\n",
        "Tensor operations are important in deep learning models. In this part, you are required to implement some common tensor operations in PyTorch."
      ]
    },
    {
      "cell_type": "markdown",
      "metadata": {
        "id": "5DeQOItkeQCx",
        "colab_type": "text"
      },
      "source": [
        "### 1) Tensor squeezing, unsqueezing and viewing"
      ]
    },
    {
      "cell_type": "markdown",
      "metadata": {
        "id": "pAOmBE5ODwpP",
        "colab_type": "text"
      },
      "source": [
        "Tensor squeezing, unsqueezing and viewing are important methods to change the dimension of a Tensor, and the corresponding functions are [torch.squeeze](https://pytorch.org/docs/stable/torch.html#torch.squeeze), [torch.unsqueeze](https://pytorch.org/docs/stable/torch.html#torch.unsqueeze) and [torch.Tensor.view](https://pytorch.org/docs/stable/tensors.html#torch.Tensor.view). Please read the documents of the functions, and finish the following practice."
      ]
    },
    {
      "cell_type": "code",
      "metadata": {
        "id": "hVrM80YxFSjb",
        "colab_type": "code",
        "outputId": "00094335-c175-40aa-9597-3d873b8b97a4",
        "colab": {
          "base_uri": "https://localhost:8080/",
          "height": 119
        }
      },
      "source": [
        "#x[row,column]\n",
        "# x is a tensor with size being (3, 2)\n",
        "x = torch.Tensor([[1, 2], [3, 4], [5, 6]])\n",
        "\n",
        "# Add two new dimensions to x by using the function torch.unsqueeze, so that the size of x becomes (3, 1, 2, 1).\n",
        "x = x.unsqueeze(1).unsqueeze(-1)\n",
        "\n",
        "print('\\nUnsqueeze:', x.shape)\n",
        "\n",
        "# Remove the two dimensions justed added by using the function torch.squeeze, and change the size of x back to (3, 2).\n",
        "x = x.squeeze(-1).squeeze(1)\n",
        "\n",
        "print('\\nSqueeze:', x.shape)\n",
        "\n",
        "# x is now a two-dimensional tensor, or in other words a matrix. Now use the function torch.Tensor.view and change x to a one-dimensional vector with size being (6).\n",
        "x = torch.Tensor.view(x,6)\n",
        "\n",
        "print('\\nTensor.view:', x.shape)"
      ],
      "execution_count": 0,
      "outputs": [
        {
          "output_type": "stream",
          "text": [
            "\n",
            "Unsqueeze: torch.Size([3, 1, 2, 1])\n",
            "\n",
            "Squeeze: torch.Size([3, 2])\n",
            "\n",
            "Tensor.view: torch.Size([6])\n"
          ],
          "name": "stdout"
        }
      ]
    },
    {
      "cell_type": "markdown",
      "metadata": {
        "id": "liuR-U0wea0n",
        "colab_type": "text"
      },
      "source": [
        "### 2) Tensor concatenation and stack"
      ]
    },
    {
      "cell_type": "markdown",
      "metadata": {
        "id": "pkbnt6v8Bo-j",
        "colab_type": "text"
      },
      "source": [
        "Tensor concatenation and stack are operations to combine small tensors into big tensors. The corresponding functions are [torch.cat](https://pytorch.org/docs/stable/torch.html#torch.cat) and [torch.stack](https://pytorch.org/docs/stable/torch.html#torch.stack). Please read the documents of the functions, and finish the following practice."
      ]
    },
    {
      "cell_type": "code",
      "metadata": {
        "id": "b9KqXu3Stfjh",
        "colab_type": "code",
        "outputId": "adecb366-2911-44d8-e239-e67a58a18125",
        "colab": {
          "base_uri": "https://localhost:8080/",
          "height": 272
        }
      },
      "source": [
        "# x is a tensor with size being (3, 2)\n",
        "x = torch.Tensor([[1, 2], [3, 4], [5, 6]])\n",
        "\n",
        "# y is a tensor with size being (3, 2)\n",
        "y = torch.Tensor([[-1, -2], [-3, -4], [-5, -6]])\n",
        "\n",
        "# Our goal is to generate a tensor z with size as (2, 3, 2), and z[0,:,:] = x, z[1,:,:] = y.\n",
        "# Use torch.stack to generate such a z\n",
        "z = torch.stack((x, y), 0)\n",
        "\n",
        "print(\"Stack:\", z.shape)\n",
        "print(z[0,:,:])\n",
        "print(z[1,:,:])\n",
        "\n",
        "# Use torch.cat and torch.unsqueeze to generate such a z\n",
        "z = torch.cat((x.unsqueeze(0), y.unsqueeze(0)), 0)\n",
        "\n",
        "print(\"\\nCat:\", z.shape)\n",
        "print(z[0,:,:])\n",
        "print(z[1,:,:])"
      ],
      "execution_count": 0,
      "outputs": [
        {
          "output_type": "stream",
          "text": [
            "Stack: torch.Size([2, 3, 2])\n",
            "tensor([[1., 2.],\n",
            "        [3., 4.],\n",
            "        [5., 6.]])\n",
            "tensor([[-1., -2.],\n",
            "        [-3., -4.],\n",
            "        [-5., -6.]])\n",
            "\n",
            "Cat: torch.Size([2, 3, 2])\n",
            "tensor([[1., 2.],\n",
            "        [3., 4.],\n",
            "        [5., 6.]])\n",
            "tensor([[-1., -2.],\n",
            "        [-3., -4.],\n",
            "        [-5., -6.]])\n"
          ],
          "name": "stdout"
        }
      ]
    },
    {
      "cell_type": "markdown",
      "metadata": {
        "id": "WGw4eEo-eeHm",
        "colab_type": "text"
      },
      "source": [
        "### 3) Tensor expansion"
      ]
    },
    {
      "cell_type": "markdown",
      "metadata": {
        "id": "KAII9eJgJFK2",
        "colab_type": "text"
      },
      "source": [
        "Tensor expansion is to expand a tensor into a larger tensor along singleton dimensions. The corresponding functions are [torch.Tensor.expand](https://pytorch.org/docs/stable/tensors.html#torch.Tensor.expand) and [torch.Tensor.expand_as](https://pytorch.org/docs/stable/tensors.html#torch.Tensor.expand_as). Please read the documents of the functions, and finish the following practice. "
      ]
    },
    {
      "cell_type": "code",
      "metadata": {
        "id": "sQbFte-AJzVL",
        "colab_type": "code",
        "outputId": "05811997-19c8-4e58-f645-74abacaaccde",
        "colab": {
          "base_uri": "https://localhost:8080/",
          "height": 119
        }
      },
      "source": [
        "# x is a tensor with size being (3)\n",
        "x = torch.Tensor([1, 2, 3])\n",
        "\n",
        "# Our goal is to generate a tensor z with size (2, 3), so that z[0,:,:] = x, z[1,:,:] = x.\n",
        "# [TO DO]\n",
        "# Change the size of x into (1, 3) by using torch.unsqueeze.\n",
        "x = x.unsqueeze(0)\n",
        "\n",
        "print('\\nUnsqueeze:', x.shape)\n",
        "\n",
        "# [TO DO]\n",
        "# Then expand the new tensor to the target tensor by using torch.Tensor.expand.\n",
        "z = x.expand(2, 3)\n",
        "\n",
        "print('\\nExpand:', z.shape)\n",
        "print(z)"
      ],
      "execution_count": 0,
      "outputs": [
        {
          "output_type": "stream",
          "text": [
            "\n",
            "Unsqueeze: torch.Size([1, 3])\n",
            "\n",
            "Expand: torch.Size([2, 3])\n",
            "tensor([[1., 2., 3.],\n",
            "        [1., 2., 3.]])\n"
          ],
          "name": "stdout"
        }
      ]
    },
    {
      "cell_type": "markdown",
      "metadata": {
        "id": "0rFL_Shoef3m",
        "colab_type": "text"
      },
      "source": [
        "### 4) Tensor reduction in a given dimension"
      ]
    },
    {
      "cell_type": "markdown",
      "metadata": {
        "id": "fmEoJVw0LL9H",
        "colab_type": "text"
      },
      "source": [
        "In deep learning, we often need to compute the mean/sum/max/min value in a given dimension of a tensor. Please read the document of [torch.mean](https://pytorch.org/docs/stable/torch.html#torch.mean), [torch.sum](https://pytorch.org/docs/stable/torch.html#torch.sum), [torch.max](https://pytorch.org/docs/stable/torch.html#torch.max), [torch.min](https://pytorch.org/docs/stable/torch.html#torch.min), [torch.topk](https://pytorch.org/docs/stable/torch.html#torch.topk), and finish the following practice."
      ]
    },
    {
      "cell_type": "code",
      "metadata": {
        "id": "A7dlZwe4MNxo",
        "colab_type": "code",
        "outputId": "890d800e-9141-4c49-825f-60e0b6f65b25",
        "colab": {
          "base_uri": "https://localhost:8080/",
          "height": 255
        }
      },
      "source": [
        "# x is a random tensor with size being (10, 50)\n",
        "x = torch.randn(10, 50)\n",
        "\n",
        "# Compute the mean value for each row of x.\n",
        "# You need to generate a tensor x_mean of size (10), and x_mean[k, :] is the mean value of the k-th row of x.\n",
        "x_mean = torch.mean(x, 1)\n",
        "\n",
        "print(\"Mean Size: \", x_mean.shape)\n",
        "print(\"Mean Test: \", x_mean[0] == torch.mean(x[0, :]))\n",
        "\n",
        "# Compute the sum value for each row of x.\n",
        "# You need to generate a tensor x_sum of size (10).\n",
        "x_sum = torch.sum(x, 1)\n",
        "\n",
        "print(\"\\nSum Size: \", x_sum.shape)\n",
        "print(\"Sum Test: \", x_sum[0] == torch.sum(x[0, :]))\n",
        "\n",
        "# Compute the max value for each row of x.\n",
        "# You need to generate a tensor x_max of size (10).\n",
        "x_max = torch.max(x, 1).values\n",
        "\n",
        "print(\"\\nMax Size: \", x_max.shape)\n",
        "print(\"Max Test: \", x_max[0] == torch.max(x[0, :]))\n",
        "\n",
        "# Compute the min value for each row of x.\n",
        "# You need to generate a tensor x_min of size (10).\n",
        "x_min = torch.min(x, 1).values\n",
        "\n",
        "print(\"\\nMin Size: \", x_min.shape)\n",
        "print(\"Min Test: \", x_min[0] == torch.min(x[0, :]))\n",
        "\n",
        "# Compute the top-5 values for each row of x.\n",
        "# You need to generate a tensor x_top of size (10, 5), and x_top[k, :] is the top-5 values of each row in x.\n",
        "x_top = torch.topk(x, 5, 1).values\n",
        "\n",
        "print(\"\\nTop 5 Size: \", x_top.shape)\n",
        "print(\"Top 5 Test:\", x_top[0] == torch.topk(x[0, :], 5).values)"
      ],
      "execution_count": 0,
      "outputs": [
        {
          "output_type": "stream",
          "text": [
            "Mean Size:  torch.Size([10])\n",
            "Mean Test:  tensor(True)\n",
            "\n",
            "Sum Size:  torch.Size([10])\n",
            "Sum Test:  tensor(True)\n",
            "\n",
            "Max Size:  torch.Size([10])\n",
            "Max Test:  tensor(True)\n",
            "\n",
            "Min Size:  torch.Size([10])\n",
            "Min Test:  tensor(True)\n",
            "\n",
            "Top 5 Size:  torch.Size([10, 5])\n",
            "Top 5 Test: tensor([True, True, True, True, True])\n"
          ],
          "name": "stdout"
        }
      ]
    },
    {
      "cell_type": "markdown",
      "metadata": {
        "id": "I49qjiqHB9oa",
        "colab_type": "text"
      },
      "source": [
        "## Convolutional Neural Networks (40 points)\n",
        "\n"
      ]
    },
    {
      "cell_type": "markdown",
      "metadata": {
        "id": "JePbG5pSt1xv",
        "colab_type": "text"
      },
      "source": [
        "Implement a convolutional neural network for image classification on CIFAR-10 dataset.\n",
        "\n",
        "CIFAR-10 is an image dataset of 10 categories. Each image has a size of 32x32 pixels. The following code will download the dataset, and split it into `train` and `test`. For this question, we use the default validation split generated by Skorch."
      ]
    },
    {
      "cell_type": "code",
      "metadata": {
        "id": "sQxOUQ29BuMB",
        "colab_type": "code",
        "outputId": "fe4b7176-22c9-40a3-f8f0-0d9e72b7be8c",
        "colab": {
          "base_uri": "https://localhost:8080/",
          "height": 117,
          "referenced_widgets": [
            "67eddc5654494b5ba8c96febce37a59f",
            "2e60131070e440c29266a9823ab9803a",
            "bc29c0fd96894fadb41b167e53af5662",
            "67b0195bfafc4a81b5cd5b03e1312a2a",
            "b0414d1f1ada4062ad05c3894bf78ed0",
            "77a4cd122deb4225988a8ca838ff8f96",
            "d0c6f1ea20614fb28c5b9afc44f0c399",
            "c1bef6376d3a4dc5bd3957e1c67d61e9"
          ]
        }
      },
      "source": [
        "train = torchvision.datasets.CIFAR10(\"./data\", train=True, download=True)\n",
        "test = torchvision.datasets.CIFAR10(\"./data\", train=False, download=True)"
      ],
      "execution_count": 0,
      "outputs": [
        {
          "output_type": "stream",
          "text": [
            "Downloading https://www.cs.toronto.edu/~kriz/cifar-10-python.tar.gz to ./data/cifar-10-python.tar.gz\n"
          ],
          "name": "stdout"
        },
        {
          "output_type": "display_data",
          "data": {
            "application/vnd.jupyter.widget-view+json": {
              "model_id": "67eddc5654494b5ba8c96febce37a59f",
              "version_minor": 0,
              "version_major": 2
            },
            "text/plain": [
              "HBox(children=(IntProgress(value=1, bar_style='info', max=1), HTML(value='')))"
            ]
          },
          "metadata": {
            "tags": []
          }
        },
        {
          "output_type": "stream",
          "text": [
            "\n",
            "Extracting ./data/cifar-10-python.tar.gz to ./data\n",
            "Files already downloaded and verified\n"
          ],
          "name": "stdout"
        }
      ]
    },
    {
      "cell_type": "markdown",
      "metadata": {
        "id": "ieBpiwMwi6wD",
        "colab_type": "text"
      },
      "source": [
        "The following code visualizes some samples in the dataset. You may use it to debug your model if necessary."
      ]
    },
    {
      "cell_type": "code",
      "metadata": {
        "id": "cU5HrxybupyJ",
        "colab_type": "code",
        "outputId": "74bc60e7-f0ba-454f-9ef2-7b9874bc008c",
        "colab": {
          "base_uri": "https://localhost:8080/",
          "height": 108
        }
      },
      "source": [
        "def plot(data, labels=None, num_sample=5):\n",
        "  n = min(len(data), num_sample)\n",
        "  for i in range(n):\n",
        "    plt.subplot(1, n, i+1)\n",
        "    plt.imshow(data[i], cmap=\"gray\")\n",
        "    plt.xticks([])\n",
        "    plt.yticks([])\n",
        "    if labels is not None:\n",
        "      plt.title(labels[i])\n",
        "\n",
        "train.labels = [train.classes[target] for target in train.targets]\n",
        "plot(train.data, train.labels)"
      ],
      "execution_count": 0,
      "outputs": [
        {
          "output_type": "display_data",
          "data": {
            "image/png": "[encoded data removed]",
            "text/plain": [
              "<Figure size 432x288 with 5 Axes>"
            ]
          },
          "metadata": {
            "tags": []
          }
        }
      ]
    },
    {
      "cell_type": "markdown",
      "metadata": {
        "id": "JwzKmdcuCv1D",
        "colab_type": "text"
      },
      "source": [
        "### 1) Basic CNN implementation\n"
      ]
    },
    {
      "cell_type": "markdown",
      "metadata": {
        "id": "TbEYo5WgjTtm",
        "colab_type": "text"
      },
      "source": [
        "Consider a basic CNN model\n",
        "\n",
        "- It has 3 convolutional layers, followed by a linear layer.\n",
        "- Each convolutional layer has a kernel size of 3, a padding of 1.\n",
        "- ReLU activation is applied on every hidden layer.\n",
        "\n",
        "Please implement this model in the following section. You will need to tune the hyperparameters and fill the results in the table."
      ]
    },
    {
      "cell_type": "markdown",
      "metadata": {
        "id": "OZKyE2GUfL-Z",
        "colab_type": "text"
      },
      "source": [
        "#### a) Implement convolutional layers"
      ]
    },
    {
      "cell_type": "markdown",
      "metadata": {
        "id": "4P_aYytExtq9",
        "colab_type": "text"
      },
      "source": [
        "Implement the initialization function and the forward function of the CNN."
      ]
    },
    {
      "cell_type": "code",
      "metadata": {
        "id": "sDmCKUD1LBFk",
        "colab_type": "code",
        "colab": {}
      },
      "source": [
        "class CNN(nn.Module):\n",
        "  def __init__(self, in_channel, out_channel):\n",
        "    super(CNN, self).__init__()\n",
        "    # implement parameter definitions here\n",
        "    self.conv1 = nn.Conv2d(in_channels=in_channel, out_channels=out_channel, kernel_size = 3, padding = 1)\n",
        "    self.conv2 = nn.Conv2d(in_channels=out_channel, out_channels=out_channel, kernel_size = 3, padding = 1)\n",
        "    self.conv3 = nn.Conv2d(in_channels=out_channel, out_channels=out_channel, kernel_size = 3, padding = 1)\n",
        "    self.fc1 = nn.Linear(out_channel*32*32, 10)\n",
        "\n",
        "  def forward(self, images):\n",
        "    # implement the forward function here\n",
        "    images = F.relu(self.conv1(images))\n",
        "    images = F.relu(self.conv2(images))\n",
        "    images = F.relu(self.conv3(images))\n",
        "    images = images.view(images.size(0), -1) \n",
        "    images = self.fc1(images)\n",
        "    return images"
      ],
      "execution_count": 0,
      "outputs": []
    },
    {
      "cell_type": "markdown",
      "metadata": {
        "id": "E_YaASPpgRiL",
        "colab_type": "text"
      },
      "source": [
        "#### b) Tune hyperparameters"
      ]
    },
    {
      "cell_type": "markdown",
      "metadata": {
        "id": "ygMcDdpy6XWP",
        "colab_type": "text"
      },
      "source": [
        "Train the CNN model on CIFAR-10 dataset. Tune the number of channels, optimizer, learning rate and the number of epochs for best validation accuracy."
      ]
    },
    {
      "cell_type": "code",
      "metadata": {
        "id": "0PHxOHYnr8TU",
        "colab_type": "code",
        "outputId": "c930e59f-7c49-4cfa-e0d1-a96aeb7a2585",
        "colab": {
          "base_uri": "https://localhost:8080/",
          "height": 1000
        }
      },
      "source": [
        "#Hyperparameters (could use GridSearch CV as well)\n",
        "channels = [128, 256, 512]\n",
        "optimizer = [optim.Adam, optim.SGD]\n",
        "learning_rate = [1e-3, 1e-4, 1e-5]\n",
        "\n",
        "#Type Cast\n",
        "x = train.data.transpose(0,3,2,1)\n",
        "x = torch.cuda.FloatTensor(x).div(255.0)\n",
        "\n",
        "for o in optimizer:\n",
        "  for c in channels:\n",
        "    for l in learning_rate:\n",
        "      print(\"Train for : {0} channels, {1} learning rate, {2} optimizer\".format(c, l, str(o)))\n",
        "      if o == optim.SGD:\n",
        "        epoch = 20\n",
        "      else:\n",
        "        epoch = 10\n",
        "      # implement hyperparameters here\n",
        "      model = skorch.NeuralNetClassifier(CNN,\n",
        "                                         module__in_channel=3, \n",
        "                                         module__out_channel=c, \n",
        "                                         criterion=torch.nn.CrossEntropyLoss, \n",
        "                                         optimizer=o, \n",
        "                                         max_epochs=epoch, \n",
        "                                         lr=l, \n",
        "                                         device=\"cuda\")\n",
        "      \n",
        "      # implement input normalization & type cast here\n",
        "      model.fit(x, np.array(train.targets))"
      ],
      "execution_count": 0,
      "outputs": [
        {
          "output_type": "stream",
          "text": [
            "Train for : 128 channels, 0.001 learning rate, <class 'torch.optim.adam.Adam'> optimizer\n",
            "  epoch    train_loss    valid_acc    valid_loss      dur\n",
            "-------  ------------  -----------  ------------  -------\n",
            "      1        \u001b[36m1.5512\u001b[0m       \u001b[32m0.5529\u001b[0m        \u001b[35m1.2814\u001b[0m  16.3134\n",
            "      2        \u001b[36m1.1484\u001b[0m       \u001b[32m0.6132\u001b[0m        \u001b[35m1.1046\u001b[0m  16.2880\n",
            "      3        \u001b[36m0.9577\u001b[0m       \u001b[32m0.6327\u001b[0m        \u001b[35m1.0784\u001b[0m  16.2809\n",
            "      4        \u001b[36m0.8177\u001b[0m       \u001b[32m0.6398\u001b[0m        1.0824  16.2911\n",
            "      5        \u001b[36m0.6935\u001b[0m       0.6183        1.2322  16.3067\n",
            "      6        \u001b[36m0.5836\u001b[0m       0.6060        1.3876  16.2250\n",
            "      7        \u001b[36m0.4885\u001b[0m       0.5896        1.5362  16.2011\n",
            "      8        \u001b[36m0.4047\u001b[0m       0.6166        1.5434  16.1873\n",
            "      9        \u001b[36m0.3275\u001b[0m       0.6059        1.8700  16.1952\n",
            "     10        \u001b[36m0.2659\u001b[0m       0.6011        2.0121  16.2681\n",
            "Train for : 128 channels, 0.0001 learning rate, <class 'torch.optim.adam.Adam'> optimizer\n",
            "  epoch    train_loss    valid_acc    valid_loss      dur\n",
            "-------  ------------  -----------  ------------  -------\n",
            "      1        \u001b[36m1.6954\u001b[0m       \u001b[32m0.5004\u001b[0m        \u001b[35m1.4193\u001b[0m  16.1782\n",
            "      2        \u001b[36m1.3444\u001b[0m       \u001b[32m0.5566\u001b[0m        \u001b[35m1.2642\u001b[0m  16.1779\n",
            "      3        \u001b[36m1.1919\u001b[0m       \u001b[32m0.5903\u001b[0m        \u001b[35m1.1751\u001b[0m  16.3231\n",
            "      4        \u001b[36m1.0735\u001b[0m       \u001b[32m0.6149\u001b[0m        \u001b[35m1.1007\u001b[0m  16.3086\n",
            "      5        \u001b[36m0.9706\u001b[0m       \u001b[32m0.6313\u001b[0m        \u001b[35m1.0492\u001b[0m  16.3180\n",
            "      6        \u001b[36m0.8825\u001b[0m       \u001b[32m0.6434\u001b[0m        \u001b[35m1.0278\u001b[0m  16.3128\n",
            "      7        \u001b[36m0.8084\u001b[0m       \u001b[32m0.6487\u001b[0m        \u001b[35m1.0224\u001b[0m  16.3167\n",
            "      8        \u001b[36m0.7421\u001b[0m       \u001b[32m0.6526\u001b[0m        1.0318  16.3123\n",
            "      9        \u001b[36m0.6804\u001b[0m       0.6497        1.0542  16.2721\n",
            "     10        \u001b[36m0.6232\u001b[0m       0.6484        1.0871  16.1918\n",
            "Train for : 128 channels, 1e-05 learning rate, <class 'torch.optim.adam.Adam'> optimizer\n",
            "  epoch    train_loss    valid_acc    valid_loss      dur\n",
            "-------  ------------  -----------  ------------  -------\n",
            "      1        \u001b[36m2.0049\u001b[0m       \u001b[32m0.3512\u001b[0m        \u001b[35m1.8363\u001b[0m  16.2100\n",
            "      2        \u001b[36m1.7387\u001b[0m       \u001b[32m0.4171\u001b[0m        \u001b[35m1.6814\u001b[0m  16.1918\n",
            "      3        \u001b[36m1.6241\u001b[0m       \u001b[32m0.4466\u001b[0m        \u001b[35m1.5967\u001b[0m  16.1896\n",
            "      4        \u001b[36m1.5524\u001b[0m       \u001b[32m0.4672\u001b[0m        \u001b[35m1.5438\u001b[0m  16.2128\n",
            "      5        \u001b[36m1.5015\u001b[0m       \u001b[32m0.4817\u001b[0m        \u001b[35m1.5025\u001b[0m  16.2139\n",
            "      6        \u001b[36m1.4606\u001b[0m       \u001b[32m0.4930\u001b[0m        \u001b[35m1.4663\u001b[0m  16.2073\n",
            "      7        \u001b[36m1.4256\u001b[0m       \u001b[32m0.5026\u001b[0m        \u001b[35m1.4325\u001b[0m  16.1995\n",
            "      8        \u001b[36m1.3939\u001b[0m       \u001b[32m0.5129\u001b[0m        \u001b[35m1.4008\u001b[0m  16.1924\n",
            "      9        \u001b[36m1.3648\u001b[0m       \u001b[32m0.5225\u001b[0m        \u001b[35m1.3724\u001b[0m  16.2100\n",
            "     10        \u001b[36m1.3382\u001b[0m       \u001b[32m0.5301\u001b[0m        \u001b[35m1.3472\u001b[0m  16.3038\n",
            "Train for : 256 channels, 0.001 learning rate, <class 'torch.optim.adam.Adam'> optimizer\n",
            "  epoch    train_loss    valid_acc    valid_loss      dur\n",
            "-------  ------------  -----------  ------------  -------\n",
            "      1        \u001b[36m1.8788\u001b[0m       \u001b[32m0.4122\u001b[0m        \u001b[35m1.6026\u001b[0m  36.8331\n",
            "      2        \u001b[36m1.5101\u001b[0m       \u001b[32m0.4862\u001b[0m        \u001b[35m1.4269\u001b[0m  36.8272\n",
            "      3        \u001b[36m1.3348\u001b[0m       \u001b[32m0.5485\u001b[0m        \u001b[35m1.2654\u001b[0m  36.7840\n",
            "      4        \u001b[36m1.1936\u001b[0m       \u001b[32m0.5737\u001b[0m        \u001b[35m1.1865\u001b[0m  36.6509\n",
            "      5        \u001b[36m1.0954\u001b[0m       \u001b[32m0.5943\u001b[0m        \u001b[35m1.1556\u001b[0m  36.6495\n",
            "      6        \u001b[36m1.0087\u001b[0m       \u001b[32m0.5967\u001b[0m        1.1567  36.6606\n",
            "      7        \u001b[36m0.9370\u001b[0m       \u001b[32m0.6013\u001b[0m        \u001b[35m1.1506\u001b[0m  36.6425\n",
            "      8        \u001b[36m0.8732\u001b[0m       0.5930        1.2147  36.6458\n",
            "      9        \u001b[36m0.8103\u001b[0m       0.5740        1.3537  36.6433\n",
            "     10        \u001b[36m0.7465\u001b[0m       0.5671        1.4418  36.6366\n",
            "Train for : 256 channels, 0.0001 learning rate, <class 'torch.optim.adam.Adam'> optimizer\n",
            "  epoch    train_loss    valid_acc    valid_loss      dur\n",
            "-------  ------------  -----------  ------------  -------\n",
            "      1        \u001b[36m1.6430\u001b[0m       \u001b[32m0.5220\u001b[0m        \u001b[35m1.3504\u001b[0m  36.7058\n",
            "      2        \u001b[36m1.2676\u001b[0m       \u001b[32m0.5774\u001b[0m        \u001b[35m1.1974\u001b[0m  36.8429\n",
            "      3        \u001b[36m1.0945\u001b[0m       \u001b[32m0.6138\u001b[0m        \u001b[35m1.0888\u001b[0m  36.8688\n",
            "      4        \u001b[36m0.9482\u001b[0m       \u001b[32m0.6408\u001b[0m        \u001b[35m1.0232\u001b[0m  36.8691\n",
            "      5        \u001b[36m0.8225\u001b[0m       \u001b[32m0.6545\u001b[0m        \u001b[35m1.0040\u001b[0m  36.7818\n",
            "      6        \u001b[36m0.7146\u001b[0m       \u001b[32m0.6557\u001b[0m        1.0261  36.6963\n",
            "      7        \u001b[36m0.6149\u001b[0m       \u001b[32m0.6586\u001b[0m        1.0579  36.6881\n",
            "      8        \u001b[36m0.5094\u001b[0m       0.6526        1.1432  36.7142\n",
            "      9        \u001b[36m0.4290\u001b[0m       0.6251        1.3386  36.6962\n",
            "     10        \u001b[36m0.3786\u001b[0m       0.6326        1.3435  36.7044\n",
            "Train for : 256 channels, 1e-05 learning rate, <class 'torch.optim.adam.Adam'> optimizer\n",
            "  epoch    train_loss    valid_acc    valid_loss      dur\n",
            "-------  ------------  -----------  ------------  -------\n",
            "      1        \u001b[36m1.8916\u001b[0m       \u001b[32m0.4264\u001b[0m        \u001b[35m1.6574\u001b[0m  36.7313\n",
            "      2        \u001b[36m1.5842\u001b[0m       \u001b[32m0.4753\u001b[0m        \u001b[35m1.5087\u001b[0m  36.7482\n",
            "      3        \u001b[36m1.4638\u001b[0m       \u001b[32m0.4957\u001b[0m        \u001b[35m1.4392\u001b[0m  36.7453\n",
            "      4        \u001b[36m1.3871\u001b[0m       \u001b[32m0.5159\u001b[0m        \u001b[35m1.3804\u001b[0m  36.7675\n",
            "      5        \u001b[36m1.3281\u001b[0m       \u001b[32m0.5316\u001b[0m        \u001b[35m1.3330\u001b[0m  36.7503\n",
            "      6        \u001b[36m1.2831\u001b[0m       \u001b[32m0.5426\u001b[0m        \u001b[35m1.2960\u001b[0m  36.7572\n",
            "      7        \u001b[36m1.2473\u001b[0m       \u001b[32m0.5519\u001b[0m        \u001b[35m1.2673\u001b[0m  36.7623\n",
            "      8        \u001b[36m1.2173\u001b[0m       \u001b[32m0.5600\u001b[0m        \u001b[35m1.2444\u001b[0m  36.7452\n",
            "      9        \u001b[36m1.1911\u001b[0m       \u001b[32m0.5667\u001b[0m        \u001b[35m1.2256\u001b[0m  36.7495\n",
            "     10        \u001b[36m1.1674\u001b[0m       \u001b[32m0.5736\u001b[0m        \u001b[35m1.2090\u001b[0m  36.7482\n",
            "Train for : 512 channels, 0.001 learning rate, <class 'torch.optim.adam.Adam'> optimizer\n",
            "  epoch    train_loss    valid_acc    valid_loss      dur\n",
            "-------  ------------  -----------  ------------  -------\n",
            "      1        \u001b[36m2.3465\u001b[0m       \u001b[32m0.4263\u001b[0m        \u001b[35m1.5981\u001b[0m  55.1589\n",
            "      2        \u001b[36m1.4429\u001b[0m       \u001b[32m0.5217\u001b[0m        \u001b[35m1.3353\u001b[0m  55.1836\n",
            "      3        \u001b[36m1.2456\u001b[0m       \u001b[32m0.5491\u001b[0m        \u001b[35m1.2674\u001b[0m  55.1669\n",
            "      4        \u001b[36m1.0931\u001b[0m       \u001b[32m0.5798\u001b[0m        \u001b[35m1.1870\u001b[0m  55.2094\n",
            "      5        \u001b[36m0.9344\u001b[0m       0.5721        1.3010  55.2029\n",
            "      6        \u001b[36m0.7980\u001b[0m       0.5713        1.4499  55.1720\n",
            "      7        \u001b[36m0.6713\u001b[0m       0.5603        1.6090  55.1736\n",
            "      8        \u001b[36m0.5765\u001b[0m       0.5568        1.6257  55.1663\n",
            "      9        \u001b[36m0.4844\u001b[0m       0.5292        1.8646  55.1705\n",
            "     10        \u001b[36m0.4046\u001b[0m       0.5327        2.1049  55.1665\n",
            "Train for : 512 channels, 0.0001 learning rate, <class 'torch.optim.adam.Adam'> optimizer\n",
            "  epoch    train_loss    valid_acc    valid_loss      dur\n",
            "-------  ------------  -----------  ------------  -------\n",
            "      1        \u001b[36m1.6173\u001b[0m       \u001b[32m0.5355\u001b[0m        \u001b[35m1.3099\u001b[0m  55.2042\n",
            "      2        \u001b[36m1.2318\u001b[0m       \u001b[32m0.5903\u001b[0m        \u001b[35m1.1607\u001b[0m  55.2054\n",
            "      3        \u001b[36m1.0391\u001b[0m       \u001b[32m0.6220\u001b[0m        \u001b[35m1.0690\u001b[0m  55.2192\n",
            "      4        \u001b[36m0.8835\u001b[0m       \u001b[32m0.6460\u001b[0m        \u001b[35m1.0160\u001b[0m  55.2298\n",
            "      5        \u001b[36m0.7453\u001b[0m       \u001b[32m0.6581\u001b[0m        \u001b[35m1.0153\u001b[0m  55.2212\n",
            "      6        \u001b[36m0.6143\u001b[0m       0.6427        1.1213  55.2232\n",
            "      7        \u001b[36m0.4982\u001b[0m       0.6327        1.2591  55.2402\n",
            "      8        \u001b[36m0.4014\u001b[0m       0.6234        1.4208  55.2410\n",
            "      9        \u001b[36m0.3293\u001b[0m       0.6379        1.4794  55.2095\n",
            "     10        \u001b[36m0.2538\u001b[0m       0.6335        1.6107  55.2321\n",
            "Train for : 512 channels, 1e-05 learning rate, <class 'torch.optim.adam.Adam'> optimizer\n",
            "  epoch    train_loss    valid_acc    valid_loss      dur\n",
            "-------  ------------  -----------  ------------  -------\n",
            "      1        \u001b[36m1.7911\u001b[0m       \u001b[32m0.4646\u001b[0m        \u001b[35m1.5327\u001b[0m  55.3443\n",
            "      2        \u001b[36m1.4693\u001b[0m       \u001b[32m0.5104\u001b[0m        \u001b[35m1.3951\u001b[0m  55.3627\n",
            "      3        \u001b[36m1.3464\u001b[0m       \u001b[32m0.5353\u001b[0m        \u001b[35m1.3238\u001b[0m  55.3644\n",
            "      4        \u001b[36m1.2614\u001b[0m       \u001b[32m0.5505\u001b[0m        \u001b[35m1.2735\u001b[0m  55.3839\n",
            "      5        \u001b[36m1.2025\u001b[0m       \u001b[32m0.5665\u001b[0m        \u001b[35m1.2348\u001b[0m  55.3715\n",
            "      6        \u001b[36m1.1551\u001b[0m       \u001b[32m0.5761\u001b[0m        \u001b[35m1.2051\u001b[0m  55.3707\n",
            "      7        \u001b[36m1.1125\u001b[0m       \u001b[32m0.5869\u001b[0m        \u001b[35m1.1764\u001b[0m  55.3649\n",
            "      8        \u001b[36m1.0721\u001b[0m       \u001b[32m0.5966\u001b[0m        \u001b[35m1.1483\u001b[0m  55.3780\n",
            "      9        \u001b[36m1.0336\u001b[0m       \u001b[32m0.6041\u001b[0m        \u001b[35m1.1248\u001b[0m  55.3678\n",
            "     10        \u001b[36m0.9965\u001b[0m       \u001b[32m0.6111\u001b[0m        \u001b[35m1.1054\u001b[0m  55.3783\n",
            "Train for : 128 channels, 0.001 learning rate, <class 'torch.optim.sgd.SGD'> optimizer\n",
            "  epoch    train_loss    valid_acc    valid_loss      dur\n",
            "-------  ------------  -----------  ------------  -------\n",
            "      1        \u001b[36m2.2573\u001b[0m       \u001b[32m0.2114\u001b[0m        \u001b[35m2.1911\u001b[0m  16.0407\n",
            "      2        \u001b[36m2.1166\u001b[0m       \u001b[32m0.2705\u001b[0m        \u001b[35m2.0525\u001b[0m  16.0416\n",
            "      3        \u001b[36m1.9978\u001b[0m       \u001b[32m0.3143\u001b[0m        \u001b[35m1.9545\u001b[0m  16.0328\n",
            "      4        \u001b[36m1.9252\u001b[0m       \u001b[32m0.3342\u001b[0m        \u001b[35m1.9060\u001b[0m  16.0378\n",
            "      5        \u001b[36m1.8887\u001b[0m       \u001b[32m0.3447\u001b[0m        \u001b[35m1.8755\u001b[0m  16.0370\n",
            "      6        \u001b[36m1.8624\u001b[0m       \u001b[32m0.3540\u001b[0m        \u001b[35m1.8509\u001b[0m  16.0372\n",
            "      7        \u001b[36m1.8400\u001b[0m       \u001b[32m0.3621\u001b[0m        \u001b[35m1.8295\u001b[0m  16.0362\n",
            "      8        \u001b[36m1.8200\u001b[0m       \u001b[32m0.3700\u001b[0m        \u001b[35m1.8099\u001b[0m  16.0442\n",
            "      9        \u001b[36m1.8010\u001b[0m       \u001b[32m0.3759\u001b[0m        \u001b[35m1.7909\u001b[0m  16.0458\n",
            "     10        \u001b[36m1.7821\u001b[0m       \u001b[32m0.3793\u001b[0m        \u001b[35m1.7713\u001b[0m  16.0363\n",
            "     11        \u001b[36m1.7626\u001b[0m       \u001b[32m0.3882\u001b[0m        \u001b[35m1.7507\u001b[0m  16.0341\n",
            "     12        \u001b[36m1.7421\u001b[0m       \u001b[32m0.3976\u001b[0m        \u001b[35m1.7289\u001b[0m  16.0369\n",
            "     13        \u001b[36m1.7213\u001b[0m       \u001b[32m0.4064\u001b[0m        \u001b[35m1.7073\u001b[0m  16.0539\n",
            "     14        \u001b[36m1.7014\u001b[0m       \u001b[32m0.4142\u001b[0m        \u001b[35m1.6879\u001b[0m  16.0319\n",
            "     15        \u001b[36m1.6834\u001b[0m       \u001b[32m0.4194\u001b[0m        \u001b[35m1.6712\u001b[0m  16.0409\n",
            "     16        \u001b[36m1.6673\u001b[0m       \u001b[32m0.4234\u001b[0m        \u001b[35m1.6571\u001b[0m  16.0594\n",
            "     17        \u001b[36m1.6525\u001b[0m       \u001b[32m0.4276\u001b[0m        \u001b[35m1.6443\u001b[0m  16.0677\n",
            "     18        \u001b[36m1.6386\u001b[0m       \u001b[32m0.4330\u001b[0m        \u001b[35m1.6322\u001b[0m  16.0366\n",
            "     19        \u001b[36m1.6252\u001b[0m       \u001b[32m0.4355\u001b[0m        \u001b[35m1.6202\u001b[0m  16.0475\n",
            "     20        \u001b[36m1.6121\u001b[0m       \u001b[32m0.4388\u001b[0m        \u001b[35m1.6083\u001b[0m  16.0772\n",
            "Train for : 128 channels, 0.0001 learning rate, <class 'torch.optim.sgd.SGD'> optimizer\n",
            "  epoch    train_loss    valid_acc    valid_loss      dur\n",
            "-------  ------------  -----------  ------------  -------\n",
            "      1        \u001b[36m2.3007\u001b[0m       \u001b[32m0.1079\u001b[0m        \u001b[35m2.2985\u001b[0m  16.0805\n",
            "      2        \u001b[36m2.2966\u001b[0m       0.1041        \u001b[35m2.2943\u001b[0m  16.0461\n",
            "      3        \u001b[36m2.2924\u001b[0m       0.1052        \u001b[35m2.2899\u001b[0m  16.0634\n",
            "      4        \u001b[36m2.2879\u001b[0m       \u001b[32m0.1083\u001b[0m        \u001b[35m2.2850\u001b[0m  16.0859\n",
            "      5        \u001b[36m2.2827\u001b[0m       \u001b[32m0.1190\u001b[0m        \u001b[35m2.2794\u001b[0m  16.0829\n",
            "      6        \u001b[36m2.2769\u001b[0m       \u001b[32m0.1307\u001b[0m        \u001b[35m2.2730\u001b[0m  16.0685\n",
            "      7        \u001b[36m2.2700\u001b[0m       \u001b[32m0.1458\u001b[0m        \u001b[35m2.2654\u001b[0m  16.0458\n",
            "      8        \u001b[36m2.2619\u001b[0m       \u001b[32m0.1665\u001b[0m        \u001b[35m2.2564\u001b[0m  16.0675\n",
            "      9        \u001b[36m2.2522\u001b[0m       \u001b[32m0.1876\u001b[0m        \u001b[35m2.2458\u001b[0m  16.0364\n",
            "     10        \u001b[36m2.2410\u001b[0m       \u001b[32m0.2075\u001b[0m        \u001b[35m2.2335\u001b[0m  16.0371\n",
            "     11        \u001b[36m2.2280\u001b[0m       \u001b[32m0.2266\u001b[0m        \u001b[35m2.2193\u001b[0m  16.0454\n",
            "     12        \u001b[36m2.2130\u001b[0m       \u001b[32m0.2414\u001b[0m        \u001b[35m2.2030\u001b[0m  16.0529\n",
            "     13        \u001b[36m2.1958\u001b[0m       \u001b[32m0.2531\u001b[0m        \u001b[35m2.1844\u001b[0m  16.0326\n",
            "     14        \u001b[36m2.1765\u001b[0m       \u001b[32m0.2633\u001b[0m        \u001b[35m2.1638\u001b[0m  16.0379\n",
            "     15        \u001b[36m2.1554\u001b[0m       \u001b[32m0.2723\u001b[0m        \u001b[35m2.1415\u001b[0m  16.0463\n",
            "     16        \u001b[36m2.1328\u001b[0m       \u001b[32m0.2770\u001b[0m        \u001b[35m2.1179\u001b[0m  16.0611\n",
            "     17        \u001b[36m2.1094\u001b[0m       \u001b[32m0.2826\u001b[0m        \u001b[35m2.0940\u001b[0m  16.0295\n",
            "     18        \u001b[36m2.0860\u001b[0m       \u001b[32m0.2876\u001b[0m        \u001b[35m2.0705\u001b[0m  16.0350\n",
            "     19        \u001b[36m2.0636\u001b[0m       \u001b[32m0.2925\u001b[0m        \u001b[35m2.0485\u001b[0m  16.0500\n",
            "     20        \u001b[36m2.0429\u001b[0m       \u001b[32m0.2963\u001b[0m        \u001b[35m2.0284\u001b[0m  16.0453\n",
            "Train for : 128 channels, 1e-05 learning rate, <class 'torch.optim.sgd.SGD'> optimizer\n",
            "  epoch    train_loss    valid_acc    valid_loss      dur\n",
            "-------  ------------  -----------  ------------  -------\n",
            "      1        \u001b[36m2.3015\u001b[0m       \u001b[32m0.1237\u001b[0m        \u001b[35m2.3008\u001b[0m  16.0314\n",
            "      2        \u001b[36m2.3003\u001b[0m       \u001b[32m0.1255\u001b[0m        \u001b[35m2.2997\u001b[0m  16.0500\n",
            "      3        \u001b[36m2.2992\u001b[0m       0.1247        \u001b[35m2.2986\u001b[0m  16.0528\n",
            "      4        \u001b[36m2.2982\u001b[0m       0.1226        \u001b[35m2.2975\u001b[0m  16.0359\n",
            "      5        \u001b[36m2.2972\u001b[0m       0.1192        \u001b[35m2.2965\u001b[0m  16.0377\n",
            "      6        \u001b[36m2.2962\u001b[0m       0.1213        \u001b[35m2.2955\u001b[0m  16.0547\n",
            "      7        \u001b[36m2.2953\u001b[0m       0.1179        \u001b[35m2.2946\u001b[0m  16.0455\n",
            "      8        \u001b[36m2.2944\u001b[0m       0.1158        \u001b[35m2.2937\u001b[0m  16.0399\n",
            "      9        \u001b[36m2.2935\u001b[0m       0.1149        \u001b[35m2.2928\u001b[0m  16.0372\n",
            "     10        \u001b[36m2.2926\u001b[0m       0.1131        \u001b[35m2.2919\u001b[0m  16.0485\n",
            "     11        \u001b[36m2.2917\u001b[0m       0.1129        \u001b[35m2.2910\u001b[0m  16.0411\n",
            "     12        \u001b[36m2.2909\u001b[0m       0.1124        \u001b[35m2.2901\u001b[0m  16.0387\n",
            "     13        \u001b[36m2.2900\u001b[0m       0.1123        \u001b[35m2.2892\u001b[0m  16.0414\n",
            "     14        \u001b[36m2.2892\u001b[0m       0.1125        \u001b[35m2.2884\u001b[0m  16.0614\n",
            "     15        \u001b[36m2.2883\u001b[0m       0.1125        \u001b[35m2.2875\u001b[0m  16.0566\n",
            "     16        \u001b[36m2.2875\u001b[0m       0.1127        \u001b[35m2.2866\u001b[0m  16.0325\n",
            "     17        \u001b[36m2.2866\u001b[0m       0.1138        \u001b[35m2.2858\u001b[0m  16.0420\n",
            "     18        \u001b[36m2.2858\u001b[0m       0.1144        \u001b[35m2.2849\u001b[0m  16.0558\n",
            "     19        \u001b[36m2.2849\u001b[0m       0.1149        \u001b[35m2.2840\u001b[0m  16.0344\n",
            "     20        \u001b[36m2.2841\u001b[0m       0.1162        \u001b[35m2.2832\u001b[0m  16.0426\n",
            "Train for : 256 channels, 0.001 learning rate, <class 'torch.optim.sgd.SGD'> optimizer\n",
            "  epoch    train_loss    valid_acc    valid_loss      dur\n",
            "-------  ------------  -----------  ------------  -------\n",
            "      1        \u001b[36m2.2468\u001b[0m       \u001b[32m0.2414\u001b[0m        \u001b[35m2.1578\u001b[0m  36.5267\n",
            "      2        \u001b[36m2.0499\u001b[0m       \u001b[32m0.3068\u001b[0m        \u001b[35m1.9661\u001b[0m  36.5188\n",
            "      3        \u001b[36m1.9214\u001b[0m       \u001b[32m0.3375\u001b[0m        \u001b[35m1.8903\u001b[0m  36.5376\n",
            "      4        \u001b[36m1.8658\u001b[0m       \u001b[32m0.3561\u001b[0m        \u001b[35m1.8440\u001b[0m  36.5303\n",
            "      5        \u001b[36m1.8266\u001b[0m       \u001b[32m0.3704\u001b[0m        \u001b[35m1.8073\u001b[0m  36.5043\n",
            "      6        \u001b[36m1.7929\u001b[0m       \u001b[32m0.3809\u001b[0m        \u001b[35m1.7733\u001b[0m  36.5240\n",
            "      7        \u001b[36m1.7603\u001b[0m       \u001b[32m0.3941\u001b[0m        \u001b[35m1.7395\u001b[0m  36.5244\n",
            "      8        \u001b[36m1.7287\u001b[0m       \u001b[32m0.4065\u001b[0m        \u001b[35m1.7082\u001b[0m  36.5211\n",
            "      9        \u001b[36m1.7008\u001b[0m       \u001b[32m0.4161\u001b[0m        \u001b[35m1.6825\u001b[0m  36.5253\n",
            "     10        \u001b[36m1.6774\u001b[0m       \u001b[32m0.4234\u001b[0m        \u001b[35m1.6618\u001b[0m  36.5159\n",
            "     11        \u001b[36m1.6572\u001b[0m       \u001b[32m0.4286\u001b[0m        \u001b[35m1.6440\u001b[0m  36.5215\n",
            "     12        \u001b[36m1.6391\u001b[0m       \u001b[32m0.4336\u001b[0m        \u001b[35m1.6278\u001b[0m  36.5318\n",
            "     13        \u001b[36m1.6222\u001b[0m       \u001b[32m0.4380\u001b[0m        \u001b[35m1.6125\u001b[0m  36.5441\n",
            "     14        \u001b[36m1.6061\u001b[0m       \u001b[32m0.4426\u001b[0m        \u001b[35m1.5978\u001b[0m  36.5812\n",
            "     15        \u001b[36m1.5908\u001b[0m       \u001b[32m0.4480\u001b[0m        \u001b[35m1.5835\u001b[0m  36.6341\n",
            "     16        \u001b[36m1.5761\u001b[0m       \u001b[32m0.4515\u001b[0m        \u001b[35m1.5697\u001b[0m  36.5456\n",
            "     17        \u001b[36m1.5618\u001b[0m       \u001b[32m0.4554\u001b[0m        \u001b[35m1.5563\u001b[0m  36.5404\n",
            "     18        \u001b[36m1.5479\u001b[0m       \u001b[32m0.4599\u001b[0m        \u001b[35m1.5432\u001b[0m  36.5313\n",
            "     19        \u001b[36m1.5345\u001b[0m       \u001b[32m0.4629\u001b[0m        \u001b[35m1.5306\u001b[0m  36.5330\n",
            "     20        \u001b[36m1.5215\u001b[0m       \u001b[32m0.4666\u001b[0m        \u001b[35m1.5186\u001b[0m  36.5131\n",
            "Train for : 256 channels, 0.0001 learning rate, <class 'torch.optim.sgd.SGD'> optimizer\n",
            "  epoch    train_loss    valid_acc    valid_loss      dur\n",
            "-------  ------------  -----------  ------------  -------\n",
            "      1        \u001b[36m2.2980\u001b[0m       \u001b[32m0.0999\u001b[0m        \u001b[35m2.2930\u001b[0m  36.5193\n",
            "      2        \u001b[36m2.2890\u001b[0m       \u001b[32m0.1046\u001b[0m        \u001b[35m2.2840\u001b[0m  36.5297\n",
            "      3        \u001b[36m2.2799\u001b[0m       \u001b[32m0.1318\u001b[0m        \u001b[35m2.2741\u001b[0m  36.5150\n",
            "      4        \u001b[36m2.2694\u001b[0m       \u001b[32m0.1631\u001b[0m        \u001b[35m2.2625\u001b[0m  36.5290\n",
            "      5        \u001b[36m2.2570\u001b[0m       \u001b[32m0.1885\u001b[0m        \u001b[35m2.2487\u001b[0m  36.5172\n",
            "      6        \u001b[36m2.2423\u001b[0m       \u001b[32m0.2054\u001b[0m        \u001b[35m2.2325\u001b[0m  36.5199\n",
            "      7        \u001b[36m2.2251\u001b[0m       \u001b[32m0.2174\u001b[0m        \u001b[35m2.2136\u001b[0m  36.5217\n",
            "      8        \u001b[36m2.2055\u001b[0m       \u001b[32m0.2291\u001b[0m        \u001b[35m2.1924\u001b[0m  36.5120\n",
            "      9        \u001b[36m2.1837\u001b[0m       \u001b[32m0.2362\u001b[0m        \u001b[35m2.1696\u001b[0m  36.5313\n",
            "     10        \u001b[36m2.1608\u001b[0m       \u001b[32m0.2459\u001b[0m        \u001b[35m2.1461\u001b[0m  36.5288\n",
            "     11        \u001b[36m2.1378\u001b[0m       \u001b[32m0.2547\u001b[0m        \u001b[35m2.1230\u001b[0m  36.5306\n",
            "     12        \u001b[36m2.1155\u001b[0m       \u001b[32m0.2639\u001b[0m        \u001b[35m2.1012\u001b[0m  36.5560\n",
            "     13        \u001b[36m2.0946\u001b[0m       \u001b[32m0.2706\u001b[0m        \u001b[35m2.0808\u001b[0m  36.5317\n",
            "     14        \u001b[36m2.0751\u001b[0m       \u001b[32m0.2778\u001b[0m        \u001b[35m2.0619\u001b[0m  36.5307\n",
            "     15        \u001b[36m2.0568\u001b[0m       \u001b[32m0.2838\u001b[0m        \u001b[35m2.0440\u001b[0m  36.5304\n",
            "     16        \u001b[36m2.0395\u001b[0m       \u001b[32m0.2910\u001b[0m        \u001b[35m2.0270\u001b[0m  36.5164\n",
            "     17        \u001b[36m2.0230\u001b[0m       \u001b[32m0.2982\u001b[0m        \u001b[35m2.0108\u001b[0m  36.5254\n",
            "     18        \u001b[36m2.0072\u001b[0m       \u001b[32m0.3045\u001b[0m        \u001b[35m1.9953\u001b[0m  36.5127\n",
            "     19        \u001b[36m1.9922\u001b[0m       \u001b[32m0.3101\u001b[0m        \u001b[35m1.9807\u001b[0m  36.5250\n",
            "     20        \u001b[36m1.9783\u001b[0m       \u001b[32m0.3153\u001b[0m        \u001b[35m1.9671\u001b[0m  36.5355\n",
            "Train for : 256 channels, 1e-05 learning rate, <class 'torch.optim.sgd.SGD'> optimizer\n",
            "  epoch    train_loss    valid_acc    valid_loss      dur\n",
            "-------  ------------  -----------  ------------  -------\n",
            "      1        \u001b[36m2.3023\u001b[0m       \u001b[32m0.1153\u001b[0m        \u001b[35m2.3015\u001b[0m  36.5344\n",
            "      2        \u001b[36m2.3008\u001b[0m       0.1061        \u001b[35m2.3001\u001b[0m  36.5232\n",
            "      3        \u001b[36m2.2994\u001b[0m       0.1031        \u001b[35m2.2987\u001b[0m  36.5160\n",
            "      4        \u001b[36m2.2981\u001b[0m       0.1133        \u001b[35m2.2974\u001b[0m  36.5120\n",
            "      5        \u001b[36m2.2969\u001b[0m       \u001b[32m0.1226\u001b[0m        \u001b[35m2.2962\u001b[0m  36.5198\n",
            "      6        \u001b[36m2.2957\u001b[0m       \u001b[32m0.1227\u001b[0m        \u001b[35m2.2950\u001b[0m  36.5107\n",
            "      7        \u001b[36m2.2946\u001b[0m       0.1162        \u001b[35m2.2938\u001b[0m  36.5269\n",
            "      8        \u001b[36m2.2935\u001b[0m       0.1136        \u001b[35m2.2927\u001b[0m  36.5207\n",
            "      9        \u001b[36m2.2924\u001b[0m       0.1118        \u001b[35m2.2916\u001b[0m  36.5284\n",
            "     10        \u001b[36m2.2913\u001b[0m       0.1111        \u001b[35m2.2905\u001b[0m  36.5374\n",
            "     11        \u001b[36m2.2902\u001b[0m       0.1101        \u001b[35m2.2894\u001b[0m  36.4974\n",
            "     12        \u001b[36m2.2892\u001b[0m       0.1096        \u001b[35m2.2884\u001b[0m  36.5021\n",
            "     13        \u001b[36m2.2881\u001b[0m       0.1093        \u001b[35m2.2873\u001b[0m  36.5080\n",
            "     14        \u001b[36m2.2871\u001b[0m       0.1101        \u001b[35m2.2862\u001b[0m  36.5026\n",
            "     15        \u001b[36m2.2860\u001b[0m       0.1108        \u001b[35m2.2851\u001b[0m  36.5100\n",
            "     16        \u001b[36m2.2850\u001b[0m       0.1113        \u001b[35m2.2840\u001b[0m  36.5037\n",
            "     17        \u001b[36m2.2839\u001b[0m       0.1124        \u001b[35m2.2829\u001b[0m  36.5164\n",
            "     18        \u001b[36m2.2828\u001b[0m       0.1147        \u001b[35m2.2818\u001b[0m  36.5061\n",
            "     19        \u001b[36m2.2817\u001b[0m       0.1161        \u001b[35m2.2807\u001b[0m  36.5096\n",
            "     20        \u001b[36m2.2806\u001b[0m       0.1180        \u001b[35m2.2796\u001b[0m  36.5050\n",
            "Train for : 512 channels, 0.001 learning rate, <class 'torch.optim.sgd.SGD'> optimizer\n",
            "  epoch    train_loss    valid_acc    valid_loss      dur\n",
            "-------  ------------  -----------  ------------  -------\n",
            "      1        \u001b[36m2.1979\u001b[0m       \u001b[32m0.2624\u001b[0m        \u001b[35m2.0708\u001b[0m  54.7464\n",
            "      2        \u001b[36m1.9763\u001b[0m       \u001b[32m0.3373\u001b[0m        \u001b[35m1.9137\u001b[0m  54.7764\n",
            "      3        \u001b[36m1.8819\u001b[0m       \u001b[32m0.3610\u001b[0m        \u001b[35m1.8517\u001b[0m  54.7639\n",
            "      4        \u001b[36m1.8286\u001b[0m       \u001b[32m0.3750\u001b[0m        \u001b[35m1.8021\u001b[0m  54.7586\n",
            "      5        \u001b[36m1.7824\u001b[0m       \u001b[32m0.3883\u001b[0m        \u001b[35m1.7575\u001b[0m  54.7600\n",
            "      6        \u001b[36m1.7409\u001b[0m       \u001b[32m0.3985\u001b[0m        \u001b[35m1.7214\u001b[0m  54.7738\n",
            "      7        \u001b[36m1.7059\u001b[0m       \u001b[32m0.4078\u001b[0m        \u001b[35m1.6939\u001b[0m  54.7607\n",
            "      8        \u001b[36m1.6763\u001b[0m       \u001b[32m0.4145\u001b[0m        \u001b[35m1.6683\u001b[0m  54.7658\n",
            "      9        \u001b[36m1.6497\u001b[0m       \u001b[32m0.4245\u001b[0m        \u001b[35m1.6425\u001b[0m  54.7603\n",
            "     10        \u001b[36m1.6250\u001b[0m       \u001b[32m0.4336\u001b[0m        \u001b[35m1.6176\u001b[0m  54.7844\n",
            "     11        \u001b[36m1.6019\u001b[0m       \u001b[32m0.4401\u001b[0m        \u001b[35m1.5939\u001b[0m  54.7888\n",
            "     12        \u001b[36m1.5800\u001b[0m       \u001b[32m0.4487\u001b[0m        \u001b[35m1.5717\u001b[0m  54.7757\n",
            "     13        \u001b[36m1.5591\u001b[0m       \u001b[32m0.4555\u001b[0m        \u001b[35m1.5506\u001b[0m  54.7840\n",
            "     14        \u001b[36m1.5392\u001b[0m       \u001b[32m0.4631\u001b[0m        \u001b[35m1.5309\u001b[0m  54.7888\n",
            "     15        \u001b[36m1.5203\u001b[0m       \u001b[32m0.4692\u001b[0m        \u001b[35m1.5126\u001b[0m  54.8064\n",
            "     16        \u001b[36m1.5023\u001b[0m       \u001b[32m0.4755\u001b[0m        \u001b[35m1.4958\u001b[0m  54.7775\n",
            "     17        \u001b[36m1.4853\u001b[0m       \u001b[32m0.4796\u001b[0m        \u001b[35m1.4804\u001b[0m  54.7730\n",
            "     18        \u001b[36m1.4692\u001b[0m       \u001b[32m0.4824\u001b[0m        \u001b[35m1.4666\u001b[0m  54.7617\n",
            "     19        \u001b[36m1.4539\u001b[0m       \u001b[32m0.4856\u001b[0m        \u001b[35m1.4541\u001b[0m  54.7730\n",
            "     20        \u001b[36m1.4394\u001b[0m       \u001b[32m0.4896\u001b[0m        \u001b[35m1.4430\u001b[0m  54.7760\n",
            "Train for : 512 channels, 0.0001 learning rate, <class 'torch.optim.sgd.SGD'> optimizer\n",
            "  epoch    train_loss    valid_acc    valid_loss      dur\n",
            "-------  ------------  -----------  ------------  -------\n",
            "      1        \u001b[36m2.2937\u001b[0m       \u001b[32m0.1069\u001b[0m        \u001b[35m2.2844\u001b[0m  54.7630\n",
            "      2        \u001b[36m2.2765\u001b[0m       \u001b[32m0.1514\u001b[0m        \u001b[35m2.2664\u001b[0m  54.7555\n",
            "      3        \u001b[36m2.2573\u001b[0m       \u001b[32m0.1906\u001b[0m        \u001b[35m2.2450\u001b[0m  54.7550\n",
            "      4        \u001b[36m2.2340\u001b[0m       \u001b[32m0.2146\u001b[0m        \u001b[35m2.2187\u001b[0m  54.7442\n",
            "      5        \u001b[36m2.2057\u001b[0m       \u001b[32m0.2347\u001b[0m        \u001b[35m2.1875\u001b[0m  54.7452\n",
            "      6        \u001b[36m2.1729\u001b[0m       \u001b[32m0.2478\u001b[0m        \u001b[35m2.1525\u001b[0m  54.7707\n",
            "      7        \u001b[36m2.1376\u001b[0m       \u001b[32m0.2622\u001b[0m        \u001b[35m2.1162\u001b[0m  54.7572\n",
            "      8        \u001b[36m2.1021\u001b[0m       \u001b[32m0.2767\u001b[0m        \u001b[35m2.0810\u001b[0m  54.7569\n",
            "      9        \u001b[36m2.0685\u001b[0m       \u001b[32m0.2861\u001b[0m        \u001b[35m2.0485\u001b[0m  54.7594\n",
            "     10        \u001b[36m2.0380\u001b[0m       \u001b[32m0.2974\u001b[0m        \u001b[35m2.0194\u001b[0m  54.7638\n",
            "     11        \u001b[36m2.0108\u001b[0m       \u001b[32m0.3066\u001b[0m        \u001b[35m1.9936\u001b[0m  54.7596\n",
            "     12        \u001b[36m1.9870\u001b[0m       \u001b[32m0.3126\u001b[0m        \u001b[35m1.9713\u001b[0m  54.7666\n",
            "     13        \u001b[36m1.9666\u001b[0m       \u001b[32m0.3196\u001b[0m        \u001b[35m1.9521\u001b[0m  54.7667\n",
            "     14        \u001b[36m1.9492\u001b[0m       \u001b[32m0.3236\u001b[0m        \u001b[35m1.9357\u001b[0m  54.7538\n",
            "     15        \u001b[36m1.9342\u001b[0m       \u001b[32m0.3287\u001b[0m        \u001b[35m1.9216\u001b[0m  54.7785\n",
            "     16        \u001b[36m1.9213\u001b[0m       \u001b[32m0.3334\u001b[0m        \u001b[35m1.9093\u001b[0m  54.7685\n",
            "     17        \u001b[36m1.9099\u001b[0m       \u001b[32m0.3387\u001b[0m        \u001b[35m1.8984\u001b[0m  54.7571\n",
            "     18        \u001b[36m1.8998\u001b[0m       \u001b[32m0.3419\u001b[0m        \u001b[35m1.8887\u001b[0m  54.7616\n",
            "     19        \u001b[36m1.8907\u001b[0m       \u001b[32m0.3457\u001b[0m        \u001b[35m1.8798\u001b[0m  54.7709\n",
            "     20        \u001b[36m1.8824\u001b[0m       \u001b[32m0.3480\u001b[0m        \u001b[35m1.8717\u001b[0m  54.7584\n",
            "Train for : 512 channels, 1e-05 learning rate, <class 'torch.optim.sgd.SGD'> optimizer\n",
            "  epoch    train_loss    valid_acc    valid_loss      dur\n",
            "-------  ------------  -----------  ------------  -------\n",
            "      1        \u001b[36m2.3024\u001b[0m       \u001b[32m0.1069\u001b[0m        \u001b[35m2.3010\u001b[0m  54.7636\n",
            "      2        \u001b[36m2.2999\u001b[0m       0.1040        \u001b[35m2.2986\u001b[0m  54.7501\n",
            "      3        \u001b[36m2.2978\u001b[0m       0.0988        \u001b[35m2.2965\u001b[0m  54.7615\n",
            "      4        \u001b[36m2.2957\u001b[0m       0.0993        \u001b[35m2.2945\u001b[0m  54.7662\n",
            "      5        \u001b[36m2.2938\u001b[0m       0.0989        \u001b[35m2.2926\u001b[0m  54.7579\n",
            "      6        \u001b[36m2.2920\u001b[0m       0.0998        \u001b[35m2.2907\u001b[0m  54.7692\n",
            "      7        \u001b[36m2.2902\u001b[0m       0.1007        \u001b[35m2.2888\u001b[0m  54.7395\n",
            "      8        \u001b[36m2.2884\u001b[0m       0.1015        \u001b[35m2.2870\u001b[0m  54.7655\n",
            "      9        \u001b[36m2.2865\u001b[0m       0.1048        \u001b[35m2.2851\u001b[0m  54.7695\n",
            "     10        \u001b[36m2.2847\u001b[0m       \u001b[32m0.1084\u001b[0m        \u001b[35m2.2833\u001b[0m  54.7609\n",
            "     11        \u001b[36m2.2829\u001b[0m       \u001b[32m0.1141\u001b[0m        \u001b[35m2.2814\u001b[0m  54.7583\n",
            "     12        \u001b[36m2.2810\u001b[0m       \u001b[32m0.1191\u001b[0m        \u001b[35m2.2795\u001b[0m  54.7649\n",
            "     13        \u001b[36m2.2792\u001b[0m       \u001b[32m0.1247\u001b[0m        \u001b[35m2.2776\u001b[0m  54.7626\n",
            "     14        \u001b[36m2.2773\u001b[0m       \u001b[32m0.1314\u001b[0m        \u001b[35m2.2756\u001b[0m  54.7596\n",
            "     15        \u001b[36m2.2754\u001b[0m       \u001b[32m0.1382\u001b[0m        \u001b[35m2.2737\u001b[0m  54.7579\n",
            "     16        \u001b[36m2.2734\u001b[0m       \u001b[32m0.1448\u001b[0m        \u001b[35m2.2717\u001b[0m  54.7708\n",
            "     17        \u001b[36m2.2714\u001b[0m       \u001b[32m0.1502\u001b[0m        \u001b[35m2.2696\u001b[0m  54.7516\n",
            "     18        \u001b[36m2.2694\u001b[0m       \u001b[32m0.1557\u001b[0m        \u001b[35m2.2676\u001b[0m  54.7507\n",
            "     19        \u001b[36m2.2674\u001b[0m       \u001b[32m0.1601\u001b[0m        \u001b[35m2.2655\u001b[0m  54.7416\n",
            "     20        \u001b[36m2.2653\u001b[0m       \u001b[32m0.1652\u001b[0m        \u001b[35m2.2633\u001b[0m  54.7617\n"
          ],
          "name": "stdout"
        }
      ]
    },
    {
      "cell_type": "markdown",
      "metadata": {
        "id": "w-EHKzozkRbD",
        "colab_type": "text"
      },
      "source": [
        "Write down **validation accuracy** of your model under different hyperparameter settings. Note the validation set is automatically split by Skorch during `model.fit()`.\n",
        "\n",
        "**Hint:** You may need more epochs for SGD than Adam.\n",
        "\n",
        "| #channel for each layer \\ optimizer | SGD   | Adam  |\n",
        "|-------------------------------------|-------|-------|\n",
        "| (128, 128, 128)                     |43.88 |65.26 |\n",
        "| (256, 256, 256)                     |46.66 |65.86 |\n",
        "| (512, 512, 512)                     |48.96 |65.81  |\n",
        "\n",
        "*A learning rate of 0.0001 is used for the Adam results and a learning rate of 0.001 is used for the SGD results.*"
      ]
    },
    {
      "cell_type": "markdown",
      "metadata": {
        "id": "go55LVSJd-vG",
        "colab_type": "text"
      },
      "source": [
        "### 2) Full CNN implementation"
      ]
    },
    {
      "cell_type": "markdown",
      "metadata": {
        "id": "6G0eCj6OmOEE",
        "colab_type": "text"
      },
      "source": [
        "Based on the CNN in the previous question, implement a full CNN model with max pooling layer.\n",
        "\n",
        "- Add a max pooling layer after each convolutional layer.\n",
        "- Each max pooling layer has a kernel size of 2 and a stride of 2.\n",
        "\n",
        "Please implement this model in the following section. You will need to tune the hyperparameters and fill the results in the table. You are also required to complete the questions."
      ]
    },
    {
      "cell_type": "markdown",
      "metadata": {
        "id": "bMrKGlMQhCa0",
        "colab_type": "text"
      },
      "source": [
        "#### a) Implement max pooling layers"
      ]
    },
    {
      "cell_type": "markdown",
      "metadata": {
        "id": "g2INt6P3Myd1",
        "colab_type": "text"
      },
      "source": [
        "Copy the CNN implementation in previous question. Implement max pooling layers."
      ]
    },
    {
      "cell_type": "code",
      "metadata": {
        "id": "DHu3Ic2dM1S9",
        "colab_type": "code",
        "colab": {}
      },
      "source": [
        "class CNN_MaxPool(nn.Module):\n",
        "  def __init__(self, in_channel, out_channel_1, out_channel_2, out_channel_3):\n",
        "    super(CNN_MaxPool, self).__init__()\n",
        "    # implement parameter definitions here\n",
        "    self.conv1 = nn.Conv2d(in_channel, out_channel_1, kernel_size=3, padding=1)\n",
        "    self.conv2 = nn.Conv2d(out_channel_1, out_channel_2, kernel_size=3, padding=1)\n",
        "    self.conv3 = nn.Conv2d(out_channel_2, out_channel_3, kernel_size=3, padding=1)\n",
        "    self.pool = nn.MaxPool2d(stride = 2, kernel_size = 2)\n",
        "    self.fc1 = nn.Linear(out_channel_3 * 4 * 4, 10)\n",
        "  \n",
        "  def forward(self, images):\n",
        "    # implement the forward function here\n",
        "    images = self.pool(F.relu(self.conv1(images)))\n",
        "    images = self.pool(F.relu(self.conv2(images)))\n",
        "    images = self.pool(F.relu(self.conv3(images)))\n",
        "    images = images.view(images.size(0), -1) \n",
        "    images = self.fc1(images)\n",
        "    return images"
      ],
      "execution_count": 0,
      "outputs": []
    },
    {
      "cell_type": "markdown",
      "metadata": {
        "id": "-A6AEOoigq68",
        "colab_type": "text"
      },
      "source": [
        "#### b) Tune hyperparameters"
      ]
    },
    {
      "cell_type": "markdown",
      "metadata": {
        "id": "drH4MHSVNqwz",
        "colab_type": "text"
      },
      "source": [
        "Based on best optimizer you found in the previous problem, tune the number of channels and learning rate for best validation accuracy."
      ]
    },
    {
      "cell_type": "code",
      "metadata": {
        "id": "nsJ1p1snk_YT",
        "colab_type": "code",
        "outputId": "64a67e0f-4192-4d74-86bc-1dff8e7e0f5d",
        "colab": {
          "base_uri": "https://localhost:8080/",
          "height": 1000
        }
      },
      "source": [
        "#Hyperparameters \n",
        "channels = [128, 256, 512]\n",
        "learning_rate = [1e-3, 1e-4]\n",
        "\n",
        "#Type Cast\n",
        "x = train.data.transpose(0,3,2,1)\n",
        "x = torch.cuda.FloatTensor(x).div(255.0)\n",
        "\n",
        "for c in channels:\n",
        "  for l in learning_rate:\n",
        "    print(\"Train for : {0} channels, {1} learning rate, {2} optimizer\".format(c, l, str('Adam')))\n",
        "    # implement hyperparameters here\n",
        "    model = skorch.NeuralNetClassifier(CNN_MaxPool,\n",
        "                                        module__in_channel=3, \n",
        "                                        module__out_channel_1=c, \n",
        "                                        module__out_channel_2=c,\n",
        "                                        module__out_channel_3=c,\n",
        "                                        criterion=torch.nn.CrossEntropyLoss, \n",
        "                                        optimizer=optim.Adam, \n",
        "                                        max_epochs=10, \n",
        "                                        lr=l, \n",
        "                                        device=\"cuda\")\n",
        "    \n",
        "    # implement input normalization & type cast here\n",
        "    model.fit(x, np.array(train.targets))"
      ],
      "execution_count": 0,
      "outputs": [
        {
          "output_type": "stream",
          "text": [
            "Train for : 128 channels, 0.001 learning rate, Adam optimizer\n",
            "  epoch    train_loss    valid_acc    valid_loss     dur\n",
            "-------  ------------  -----------  ------------  ------\n",
            "      1        \u001b[36m1.6733\u001b[0m       \u001b[32m0.5123\u001b[0m        \u001b[35m1.3652\u001b[0m  4.5088\n",
            "      2        \u001b[36m1.2524\u001b[0m       \u001b[32m0.5965\u001b[0m        \u001b[35m1.1438\u001b[0m  4.4947\n",
            "      3        \u001b[36m1.0764\u001b[0m       \u001b[32m0.6341\u001b[0m        \u001b[35m1.0519\u001b[0m  4.5152\n",
            "      4        \u001b[36m0.9649\u001b[0m       \u001b[32m0.6605\u001b[0m        \u001b[35m0.9758\u001b[0m  4.5042\n",
            "      5        \u001b[36m0.8807\u001b[0m       \u001b[32m0.6751\u001b[0m        \u001b[35m0.9310\u001b[0m  4.5105\n",
            "      6        \u001b[36m0.8119\u001b[0m       \u001b[32m0.6918\u001b[0m        \u001b[35m0.8843\u001b[0m  4.5170\n",
            "      7        \u001b[36m0.7550\u001b[0m       \u001b[32m0.7061\u001b[0m        \u001b[35m0.8540\u001b[0m  4.4914\n",
            "      8        \u001b[36m0.7098\u001b[0m       0.7028        0.8572  4.4964\n",
            "      9        \u001b[36m0.6736\u001b[0m       \u001b[32m0.7109\u001b[0m        \u001b[35m0.8397\u001b[0m  4.5072\n",
            "     10        \u001b[36m0.6333\u001b[0m       \u001b[32m0.7138\u001b[0m        0.8464  4.5043\n",
            "Train for : 128 channels, 0.0001 learning rate, Adam optimizer\n",
            "  epoch    train_loss    valid_acc    valid_loss     dur\n",
            "-------  ------------  -----------  ------------  ------\n",
            "      1        \u001b[36m1.9124\u001b[0m       \u001b[32m0.4167\u001b[0m        \u001b[35m1.6423\u001b[0m  4.5095\n",
            "      2        \u001b[36m1.5761\u001b[0m       \u001b[32m0.4683\u001b[0m        \u001b[35m1.4961\u001b[0m  4.5098\n",
            "      3        \u001b[36m1.4545\u001b[0m       \u001b[32m0.5060\u001b[0m        \u001b[35m1.3957\u001b[0m  4.5010\n",
            "      4        \u001b[36m1.3653\u001b[0m       \u001b[32m0.5300\u001b[0m        \u001b[35m1.3341\u001b[0m  4.5077\n",
            "      5        \u001b[36m1.3011\u001b[0m       \u001b[32m0.5507\u001b[0m        \u001b[35m1.2854\u001b[0m  4.5079\n",
            "      6        \u001b[36m1.2508\u001b[0m       \u001b[32m0.5655\u001b[0m        \u001b[35m1.2433\u001b[0m  4.5219\n",
            "      7        \u001b[36m1.2082\u001b[0m       \u001b[32m0.5755\u001b[0m        \u001b[35m1.2053\u001b[0m  4.5205\n",
            "      8        \u001b[36m1.1710\u001b[0m       \u001b[32m0.5885\u001b[0m        \u001b[35m1.1713\u001b[0m  4.5390\n",
            "      9        \u001b[36m1.1376\u001b[0m       \u001b[32m0.6008\u001b[0m        \u001b[35m1.1407\u001b[0m  4.5302\n",
            "     10        \u001b[36m1.1070\u001b[0m       \u001b[32m0.6100\u001b[0m        \u001b[35m1.1130\u001b[0m  4.5152\n",
            "Train for : 256 channels, 0.001 learning rate, Adam optimizer\n",
            "  epoch    train_loss    valid_acc    valid_loss     dur\n",
            "-------  ------------  -----------  ------------  ------\n",
            "      1        \u001b[36m1.6410\u001b[0m       \u001b[32m0.5297\u001b[0m        \u001b[35m1.3023\u001b[0m  8.2809\n",
            "      2        \u001b[36m1.2048\u001b[0m       \u001b[32m0.6068\u001b[0m        \u001b[35m1.1126\u001b[0m  8.2957\n",
            "      3        \u001b[36m1.0321\u001b[0m       \u001b[32m0.6497\u001b[0m        \u001b[35m1.0008\u001b[0m  8.3003\n",
            "      4        \u001b[36m0.9191\u001b[0m       \u001b[32m0.6747\u001b[0m        \u001b[35m0.9266\u001b[0m  8.2967\n",
            "      5        \u001b[36m0.8340\u001b[0m       \u001b[32m0.6861\u001b[0m        \u001b[35m0.8942\u001b[0m  8.3057\n",
            "      6        \u001b[36m0.7575\u001b[0m       \u001b[32m0.7023\u001b[0m        \u001b[35m0.8630\u001b[0m  8.3003\n",
            "      7        \u001b[36m0.6993\u001b[0m       \u001b[32m0.7109\u001b[0m        \u001b[35m0.8447\u001b[0m  8.3083\n",
            "      8        \u001b[36m0.6478\u001b[0m       \u001b[32m0.7142\u001b[0m        0.8491  8.2971\n",
            "      9        \u001b[36m0.6050\u001b[0m       0.7134        0.8706  8.3135\n",
            "     10        \u001b[36m0.5630\u001b[0m       \u001b[32m0.7155\u001b[0m        0.8816  8.2964\n",
            "Train for : 256 channels, 0.0001 learning rate, Adam optimizer\n",
            "  epoch    train_loss    valid_acc    valid_loss     dur\n",
            "-------  ------------  -----------  ------------  ------\n",
            "      1        \u001b[36m1.8031\u001b[0m       \u001b[32m0.4568\u001b[0m        \u001b[35m1.5196\u001b[0m  8.3016\n",
            "      2        \u001b[36m1.4212\u001b[0m       \u001b[32m0.5333\u001b[0m        \u001b[35m1.3308\u001b[0m  8.3259\n",
            "      3        \u001b[36m1.2799\u001b[0m       \u001b[32m0.5696\u001b[0m        \u001b[35m1.2318\u001b[0m  8.3207\n",
            "      4        \u001b[36m1.1835\u001b[0m       \u001b[32m0.6008\u001b[0m        \u001b[35m1.1572\u001b[0m  8.3242\n",
            "      5        \u001b[36m1.1070\u001b[0m       \u001b[32m0.6242\u001b[0m        \u001b[35m1.0959\u001b[0m  8.3124\n",
            "      6        \u001b[36m1.0448\u001b[0m       \u001b[32m0.6393\u001b[0m        \u001b[35m1.0463\u001b[0m  8.3126\n",
            "      7        \u001b[36m0.9913\u001b[0m       \u001b[32m0.6495\u001b[0m        \u001b[35m1.0047\u001b[0m  8.3130\n",
            "      8        \u001b[36m0.9446\u001b[0m       \u001b[32m0.6625\u001b[0m        \u001b[35m0.9685\u001b[0m  8.3190\n",
            "      9        \u001b[36m0.9032\u001b[0m       \u001b[32m0.6716\u001b[0m        \u001b[35m0.9351\u001b[0m  8.3228\n",
            "     10        \u001b[36m0.8662\u001b[0m       \u001b[32m0.6812\u001b[0m        \u001b[35m0.9085\u001b[0m  8.3434\n",
            "Train for : 512 channels, 0.001 learning rate, Adam optimizer\n",
            "  epoch    train_loss    valid_acc    valid_loss      dur\n",
            "-------  ------------  -----------  ------------  -------\n",
            "      1        \u001b[36m1.6936\u001b[0m       \u001b[32m0.5305\u001b[0m        \u001b[35m1.3345\u001b[0m  16.6207\n",
            "      2        \u001b[36m1.1952\u001b[0m       \u001b[32m0.6222\u001b[0m        \u001b[35m1.0769\u001b[0m  16.6390\n",
            "      3        \u001b[36m0.9820\u001b[0m       \u001b[32m0.6620\u001b[0m        \u001b[35m0.9601\u001b[0m  16.6411\n",
            "      4        \u001b[36m0.8536\u001b[0m       \u001b[32m0.6826\u001b[0m        \u001b[35m0.9222\u001b[0m  16.6734\n",
            "      5        \u001b[36m0.7747\u001b[0m       \u001b[32m0.6997\u001b[0m        \u001b[35m0.8728\u001b[0m  16.6416\n",
            "      6        \u001b[36m0.7028\u001b[0m       \u001b[32m0.7001\u001b[0m        \u001b[35m0.8723\u001b[0m  16.6476\n",
            "      7        \u001b[36m0.6485\u001b[0m       0.6941        0.9226  16.6471\n",
            "      8        \u001b[36m0.6019\u001b[0m       0.6853        0.9899  16.6564\n",
            "      9        \u001b[36m0.5741\u001b[0m       0.6852        1.0053  16.6537\n",
            "     10        \u001b[36m0.5482\u001b[0m       \u001b[32m0.7040\u001b[0m        0.9437  16.6345\n",
            "Train for : 512 channels, 0.0001 learning rate, Adam optimizer\n",
            "  epoch    train_loss    valid_acc    valid_loss      dur\n",
            "-------  ------------  -----------  ------------  -------\n",
            "      1        \u001b[36m1.7378\u001b[0m       \u001b[32m0.4995\u001b[0m        \u001b[35m1.4083\u001b[0m  16.6535\n",
            "      2        \u001b[36m1.3350\u001b[0m       \u001b[32m0.5717\u001b[0m        \u001b[35m1.2258\u001b[0m  16.6484\n",
            "      3        \u001b[36m1.1703\u001b[0m       \u001b[32m0.6149\u001b[0m        \u001b[35m1.1105\u001b[0m  16.6614\n",
            "      4        \u001b[36m1.0498\u001b[0m       \u001b[32m0.6450\u001b[0m        \u001b[35m1.0285\u001b[0m  16.6833\n",
            "      5        \u001b[36m0.9576\u001b[0m       \u001b[32m0.6640\u001b[0m        \u001b[35m0.9679\u001b[0m  16.6828\n",
            "      6        \u001b[36m0.8839\u001b[0m       \u001b[32m0.6800\u001b[0m        \u001b[35m0.9199\u001b[0m  16.6719\n",
            "      7        \u001b[36m0.8234\u001b[0m       \u001b[32m0.6925\u001b[0m        \u001b[35m0.8792\u001b[0m  16.6698\n",
            "      8        \u001b[36m0.7720\u001b[0m       \u001b[32m0.7045\u001b[0m        \u001b[35m0.8470\u001b[0m  16.6897\n",
            "      9        \u001b[36m0.7241\u001b[0m       \u001b[32m0.7133\u001b[0m        \u001b[35m0.8214\u001b[0m  16.6872\n",
            "     10        \u001b[36m0.6804\u001b[0m       \u001b[32m0.7198\u001b[0m        \u001b[35m0.8057\u001b[0m  16.6822\n"
          ],
          "name": "stdout"
        }
      ]
    },
    {
      "cell_type": "code",
      "metadata": {
        "id": "El4PAyS9kTaw",
        "colab_type": "code",
        "outputId": "383bbe74-f93a-4694-9c3e-c7cecd21c5e7",
        "colab": {
          "base_uri": "https://localhost:8080/",
          "height": 1000
        }
      },
      "source": [
        "#Hyperparameters \n",
        "channels = [128, 256, 512]\n",
        "learning_rate = [1e-3, 1e-4]\n",
        "\n",
        "#Type Cast\n",
        "x = train.data.transpose(0,3,2,1)\n",
        "x = torch.cuda.FloatTensor(x).div(255.0)\n",
        "\n",
        "for c in channels:\n",
        "  for l in learning_rate:\n",
        "    print(\"Train for : {0} channels, {1} learning rate, {2} optimizer\".format(c, l, str('Adam')))\n",
        "    # implement hyperparameters here\n",
        "    model = skorch.NeuralNetClassifier(CNN_MaxPool,\n",
        "                                        module__in_channel=3, \n",
        "                                        module__out_channel_1=c, \n",
        "                                        module__out_channel_2=c*2,\n",
        "                                        module__out_channel_3=c*2*2,\n",
        "                                        criterion=torch.nn.CrossEntropyLoss, \n",
        "                                        optimizer=optim.Adam, \n",
        "                                        max_epochs=10, \n",
        "                                        lr=l, \n",
        "                                        device=\"cuda\")\n",
        "    \n",
        "    # implement input normalization & type cast here\n",
        "    model.fit(x, np.array(train.targets))"
      ],
      "execution_count": 0,
      "outputs": [
        {
          "output_type": "stream",
          "text": [
            "Train for : 128 channels, 0.001 learning rate, Adam optimizer\n",
            "  epoch    train_loss    valid_acc    valid_loss     dur\n",
            "-------  ------------  -----------  ------------  ------\n",
            "      1        \u001b[36m1.6384\u001b[0m       \u001b[32m0.5310\u001b[0m        \u001b[35m1.3167\u001b[0m  6.8921\n",
            "      2        \u001b[36m1.2038\u001b[0m       \u001b[32m0.6110\u001b[0m        \u001b[35m1.0908\u001b[0m  6.8853\n",
            "      3        \u001b[36m1.0042\u001b[0m       \u001b[32m0.6564\u001b[0m        \u001b[35m0.9746\u001b[0m  6.9013\n",
            "      4        \u001b[36m0.8697\u001b[0m       \u001b[32m0.6876\u001b[0m        \u001b[35m0.8844\u001b[0m  6.9232\n",
            "      5        \u001b[36m0.7642\u001b[0m       \u001b[32m0.7047\u001b[0m        \u001b[35m0.8458\u001b[0m  6.8942\n",
            "      6        \u001b[36m0.6823\u001b[0m       \u001b[32m0.7120\u001b[0m        0.8474  6.8927\n",
            "      7        \u001b[36m0.6109\u001b[0m       0.7102        0.8682  6.9117\n",
            "      8        \u001b[36m0.5502\u001b[0m       \u001b[32m0.7126\u001b[0m        0.8964  6.9009\n",
            "      9        \u001b[36m0.4978\u001b[0m       0.7100        0.9332  6.9163\n",
            "     10        \u001b[36m0.4534\u001b[0m       0.7123        0.9693  6.8805\n",
            "Train for : 128 channels, 0.0001 learning rate, Adam optimizer\n",
            "  epoch    train_loss    valid_acc    valid_loss     dur\n",
            "-------  ------------  -----------  ------------  ------\n",
            "      1        \u001b[36m1.7900\u001b[0m       \u001b[32m0.4693\u001b[0m        \u001b[35m1.4775\u001b[0m  6.9052\n",
            "      2        \u001b[36m1.3959\u001b[0m       \u001b[32m0.5426\u001b[0m        \u001b[35m1.3078\u001b[0m  6.9042\n",
            "      3        \u001b[36m1.2598\u001b[0m       \u001b[32m0.5830\u001b[0m        \u001b[35m1.2070\u001b[0m  6.9000\n",
            "      4        \u001b[36m1.1596\u001b[0m       \u001b[32m0.6099\u001b[0m        \u001b[35m1.1289\u001b[0m  6.8998\n",
            "      5        \u001b[36m1.0787\u001b[0m       \u001b[32m0.6318\u001b[0m        \u001b[35m1.0669\u001b[0m  6.9282\n",
            "      6        \u001b[36m1.0119\u001b[0m       \u001b[32m0.6478\u001b[0m        \u001b[35m1.0157\u001b[0m  6.9083\n",
            "      7        \u001b[36m0.9556\u001b[0m       \u001b[32m0.6619\u001b[0m        \u001b[35m0.9726\u001b[0m  6.9124\n",
            "      8        \u001b[36m0.9072\u001b[0m       \u001b[32m0.6764\u001b[0m        \u001b[35m0.9377\u001b[0m  6.9041\n",
            "      9        \u001b[36m0.8651\u001b[0m       \u001b[32m0.6874\u001b[0m        \u001b[35m0.9082\u001b[0m  6.9066\n",
            "     10        \u001b[36m0.8279\u001b[0m       \u001b[32m0.6959\u001b[0m        \u001b[35m0.8825\u001b[0m  6.9281\n",
            "Train for : 256 channels, 0.001 learning rate, Adam optimizer\n",
            "  epoch    train_loss    valid_acc    valid_loss      dur\n",
            "-------  ------------  -----------  ------------  -------\n",
            "      1        \u001b[36m1.6123\u001b[0m       \u001b[32m0.5383\u001b[0m        \u001b[35m1.3041\u001b[0m  12.2778\n",
            "      2        \u001b[36m1.1450\u001b[0m       \u001b[32m0.6234\u001b[0m        \u001b[35m1.0696\u001b[0m  12.2919\n",
            "      3        \u001b[36m0.9651\u001b[0m       \u001b[32m0.6698\u001b[0m        \u001b[35m0.9450\u001b[0m  12.2881\n",
            "      4        \u001b[36m0.8458\u001b[0m       \u001b[32m0.6874\u001b[0m        \u001b[35m0.8960\u001b[0m  12.2829\n",
            "      5        \u001b[36m0.7562\u001b[0m       \u001b[32m0.6941\u001b[0m        \u001b[35m0.8800\u001b[0m  12.2935\n",
            "      6        \u001b[36m0.6874\u001b[0m       \u001b[32m0.7052\u001b[0m        \u001b[35m0.8627\u001b[0m  12.2906\n",
            "      7        \u001b[36m0.6205\u001b[0m       0.6992        0.9224  12.3110\n",
            "      8        \u001b[36m0.5684\u001b[0m       0.6984        0.9483  12.2970\n",
            "      9        \u001b[36m0.5127\u001b[0m       \u001b[32m0.7059\u001b[0m        0.9609  12.2901\n",
            "     10        \u001b[36m0.4556\u001b[0m       0.6921        1.0534  12.2938\n",
            "Train for : 256 channels, 0.0001 learning rate, Adam optimizer\n",
            "  epoch    train_loss    valid_acc    valid_loss      dur\n",
            "-------  ------------  -----------  ------------  -------\n",
            "      1        \u001b[36m1.7024\u001b[0m       \u001b[32m0.5036\u001b[0m        \u001b[35m1.3884\u001b[0m  12.3166\n",
            "      2        \u001b[36m1.3032\u001b[0m       \u001b[32m0.5874\u001b[0m        \u001b[35m1.1807\u001b[0m  12.3244\n",
            "      3        \u001b[36m1.1250\u001b[0m       \u001b[32m0.6299\u001b[0m        \u001b[35m1.0631\u001b[0m  12.3200\n",
            "      4        \u001b[36m0.9983\u001b[0m       \u001b[32m0.6571\u001b[0m        \u001b[35m0.9862\u001b[0m  12.3099\n",
            "      5        \u001b[36m0.9041\u001b[0m       \u001b[32m0.6769\u001b[0m        \u001b[35m0.9299\u001b[0m  12.3152\n",
            "      6        \u001b[36m0.8290\u001b[0m       \u001b[32m0.6895\u001b[0m        \u001b[35m0.8863\u001b[0m  12.3202\n",
            "      7        \u001b[36m0.7671\u001b[0m       \u001b[32m0.7012\u001b[0m        \u001b[35m0.8493\u001b[0m  12.3282\n",
            "      8        \u001b[36m0.7118\u001b[0m       \u001b[32m0.7146\u001b[0m        \u001b[35m0.8177\u001b[0m  12.3225\n",
            "      9        \u001b[36m0.6596\u001b[0m       \u001b[32m0.7229\u001b[0m        \u001b[35m0.7989\u001b[0m  12.3199\n",
            "     10        \u001b[36m0.6110\u001b[0m       \u001b[32m0.7324\u001b[0m        \u001b[35m0.7823\u001b[0m  12.3267\n",
            "Train for : 512 channels, 0.001 learning rate, Adam optimizer\n",
            "  epoch    train_loss    valid_acc    valid_loss      dur\n",
            "-------  ------------  -----------  ------------  -------\n",
            "      1        \u001b[36m1.8230\u001b[0m       \u001b[32m0.5131\u001b[0m        \u001b[35m1.3785\u001b[0m  42.3480\n",
            "      2        \u001b[36m1.2375\u001b[0m       \u001b[32m0.6065\u001b[0m        \u001b[35m1.1206\u001b[0m  42.3691\n",
            "      3        \u001b[36m1.0543\u001b[0m       \u001b[32m0.6532\u001b[0m        \u001b[35m0.9981\u001b[0m  42.3880\n",
            "      4        \u001b[36m0.9344\u001b[0m       \u001b[32m0.6744\u001b[0m        \u001b[35m0.9471\u001b[0m  42.4348\n",
            "      5        \u001b[36m0.8463\u001b[0m       \u001b[32m0.6882\u001b[0m        \u001b[35m0.9013\u001b[0m  42.4561\n",
            "      6        \u001b[36m0.7847\u001b[0m       \u001b[32m0.6963\u001b[0m        \u001b[35m0.8808\u001b[0m  42.4781\n",
            "      7        \u001b[36m0.7247\u001b[0m       \u001b[32m0.7049\u001b[0m        0.8820  42.4543\n",
            "      8        \u001b[36m0.6790\u001b[0m       \u001b[32m0.7103\u001b[0m        \u001b[35m0.8780\u001b[0m  42.4512\n",
            "      9        \u001b[36m0.6426\u001b[0m       0.7103        0.8820  42.4151\n",
            "     10        \u001b[36m0.5961\u001b[0m       0.6990        0.9289  42.3940\n",
            "Train for : 512 channels, 0.0001 learning rate, Adam optimizer\n",
            "  epoch    train_loss    valid_acc    valid_loss      dur\n",
            "-------  ------------  -----------  ------------  -------\n",
            "      1        \u001b[36m1.6434\u001b[0m       \u001b[32m0.5365\u001b[0m        \u001b[35m1.3136\u001b[0m  42.3817\n",
            "      2        \u001b[36m1.2195\u001b[0m       \u001b[32m0.6181\u001b[0m        \u001b[35m1.1028\u001b[0m  42.4053\n",
            "      3        \u001b[36m1.0156\u001b[0m       \u001b[32m0.6595\u001b[0m        \u001b[35m0.9707\u001b[0m  42.4205\n",
            "      4        \u001b[36m0.8761\u001b[0m       \u001b[32m0.6836\u001b[0m        \u001b[35m0.8947\u001b[0m  42.4567\n",
            "      5        \u001b[36m0.7742\u001b[0m       \u001b[32m0.7074\u001b[0m        \u001b[35m0.8335\u001b[0m  42.4482\n",
            "      6        \u001b[36m0.6916\u001b[0m       \u001b[32m0.7234\u001b[0m        \u001b[35m0.7948\u001b[0m  42.4450\n",
            "      7        \u001b[36m0.6158\u001b[0m       \u001b[32m0.7333\u001b[0m        \u001b[35m0.7762\u001b[0m  42.4479\n",
            "      8        \u001b[36m0.5446\u001b[0m       \u001b[32m0.7388\u001b[0m        \u001b[35m0.7683\u001b[0m  42.4459\n",
            "      9        \u001b[36m0.4785\u001b[0m       0.7345        0.7874  42.4538\n",
            "     10        \u001b[36m0.4157\u001b[0m       0.7311        0.8121  42.4455\n"
          ],
          "name": "stdout"
        }
      ]
    },
    {
      "cell_type": "markdown",
      "metadata": {
        "id": "H7Mu2ZZHoZU0",
        "colab_type": "text"
      },
      "source": [
        "Write down the **validation accuracy** of your model under different hyperparameter settings.\n",
        "\n",
        "| #channel for each layer | validation accuracy |\n",
        "|-------------------------|---------------------|\n",
        "| (128, 128, 128)         |     61.00              |\n",
        "| (128, 256, 512)         |     69.59     |\n",
        "| (256, 256, 256)         |     68.12      |\n",
        "| (256, 512, 1024)        |     73.24     |\n",
        "| (512, 512, 512)         |     71.98          |\n",
        "| (512, 1024, 2048)       |     73.88           |\n"
      ]
    },
    {
      "cell_type": "markdown",
      "metadata": {
        "id": "8UCaz8nWoWWS",
        "colab_type": "text"
      },
      "source": [
        "For the best model you have, test it on the test set.\n",
        "\n",
        "It is fine if you found some hyperparameter combination better than those listed in the tables."
      ]
    },
    {
      "cell_type": "code",
      "metadata": {
        "id": "gKkSK-M3kIJP",
        "colab_type": "code",
        "outputId": "a6b089ed-8ccd-40d1-e3e4-612d041c2d3b",
        "colab": {
          "base_uri": "https://localhost:8080/",
          "height": 374
        }
      },
      "source": [
        "#Type Cast\n",
        "x = train.data.transpose(0,3,2,1)\n",
        "x = torch.cuda.FloatTensor(x).div(255.0)\n",
        "\n",
        "model = skorch.NeuralNetClassifier(CNN_MaxPool,\n",
        "                                   module__in_channel=3, \n",
        "                                   module__out_channel_1=512, \n",
        "                                   module__out_channel_2=1024,\n",
        "                                   module__out_channel_3=2048,\n",
        "                                   criterion=torch.nn.CrossEntropyLoss, \n",
        "                                   optimizer=optim.Adam, \n",
        "                                   max_epochs=10, \n",
        "                                   lr=1e-4, \n",
        "                                   device=\"cuda\")\n",
        "    \n",
        "# implement input normalization & type cast here\n",
        "model.fit(x, np.array(train.targets))"
      ],
      "execution_count": 0,
      "outputs": [
        {
          "output_type": "stream",
          "text": [
            "  epoch    train_loss    valid_acc    valid_loss      dur\n",
            "-------  ------------  -----------  ------------  -------\n",
            "      1        \u001b[36m1.6438\u001b[0m       \u001b[32m0.5234\u001b[0m        \u001b[35m1.3386\u001b[0m  57.9355\n",
            "      2        \u001b[36m1.2347\u001b[0m       \u001b[32m0.6137\u001b[0m        \u001b[35m1.1143\u001b[0m  59.9029\n",
            "      3        \u001b[36m1.0313\u001b[0m       \u001b[32m0.6559\u001b[0m        \u001b[35m0.9819\u001b[0m  61.6959\n",
            "      4        \u001b[36m0.8932\u001b[0m       \u001b[32m0.6817\u001b[0m        \u001b[35m0.9087\u001b[0m  62.6230\n",
            "      5        \u001b[36m0.7912\u001b[0m       \u001b[32m0.7035\u001b[0m        \u001b[35m0.8456\u001b[0m  63.3900\n",
            "      6        \u001b[36m0.7057\u001b[0m       \u001b[32m0.7199\u001b[0m        \u001b[35m0.8069\u001b[0m  63.9279\n",
            "      7        \u001b[36m0.6281\u001b[0m       \u001b[32m0.7296\u001b[0m        \u001b[35m0.7825\u001b[0m  64.2834\n",
            "      8        \u001b[36m0.5586\u001b[0m       \u001b[32m0.7356\u001b[0m        \u001b[35m0.7703\u001b[0m  64.5500\n",
            "      9        \u001b[36m0.4935\u001b[0m       0.7340        0.7862  64.6399\n",
            "     10        \u001b[36m0.4353\u001b[0m       0.7278        0.8184  64.6878\n"
          ],
          "name": "stdout"
        },
        {
          "output_type": "execute_result",
          "data": {
            "text/plain": [
              "<class 'skorch.classifier.NeuralNetClassifier'>[initialized](\n",
              "  module_=CNN_MaxPool(\n",
              "    (conv1): Conv2d(3, 512, kernel_size=(3, 3), stride=(1, 1), padding=(1, 1))\n",
              "    (conv2): Conv2d(512, 1024, kernel_size=(3, 3), stride=(1, 1), padding=(1, 1))\n",
              "    (conv3): Conv2d(1024, 2048, kernel_size=(3, 3), stride=(1, 1), padding=(1, 1))\n",
              "    (pool): MaxPool2d(kernel_size=2, stride=2, padding=0, dilation=1, ceil_mode=False)\n",
              "    (fc1): Linear(in_features=32768, out_features=10, bias=True)\n",
              "  ),\n",
              ")"
            ]
          },
          "metadata": {
            "tags": []
          },
          "execution_count": 10
        }
      ]
    },
    {
      "cell_type": "code",
      "metadata": {
        "id": "bTtBk22OECDD",
        "colab_type": "code",
        "outputId": "1b29e3ac-5501-4800-cf09-deb8f3a9ae53",
        "colab": {
          "base_uri": "https://localhost:8080/",
          "height": 34
        }
      },
      "source": [
        "y = test.data.transpose(0,3,2,1)\n",
        "y = torch.cuda.FloatTensor(y).div(255.0)\n",
        "\n",
        "# implement the same input normalization & type cast here\n",
        "test.predictions = model.predict(y)\n",
        "sklearn.metrics.accuracy_score(test.targets, test.predictions)"
      ],
      "execution_count": 0,
      "outputs": [
        {
          "output_type": "execute_result",
          "data": {
            "text/plain": [
              "0.7225"
            ]
          },
          "metadata": {
            "tags": []
          },
          "execution_count": 11
        }
      ]
    },
    {
      "cell_type": "markdown",
      "metadata": {
        "colab_type": "text",
        "id": "kSbhC8f1or6_"
      },
      "source": [
        "How much **test accuracy** do you get?\n",
        "\n",
        "**Your Answer:**\n",
        "\n",
        "I get a test accuracy of 72.25 using the CNN with max pooling, layers of 512, 1024, and 2048, as well as an Adam optimizer with a learning rate of 0.0001 trained for 10 epochs. "
      ]
    },
    {
      "cell_type": "markdown",
      "metadata": {
        "id": "nG3E9ZckomkX",
        "colab_type": "text"
      },
      "source": [
        "What can you conclude for the design of CNN structure?\n",
        "\n",
        "**Your Answer:**\n",
        "\n",
        "Based on the results, we can conclude that having pooling layers as part of the CNN structure improves the validation accuracy. Furthermore, we can see that 512, 1024, and 2048 are reasonable values for the layers based on the results. This makes sense as hidden layers correspond to feature maps. The design of the CNN could be further optimized using regularization techniques and by adding convolution layers. Deeper networks typically allow low to high levels to be modelled in an image, and can improve accuracy."
      ]
    },
    {
      "cell_type": "markdown",
      "metadata": {
        "id": "AWO5rjXuPIH5",
        "colab_type": "text"
      },
      "source": [
        "## Recurrent Neural Networks (40 points)"
      ]
    },
    {
      "cell_type": "markdown",
      "metadata": {
        "id": "D2AmIPwBJt9j",
        "colab_type": "text"
      },
      "source": [
        "Next, let's use PyTorch to implement a recurrent neural network for sentiment analysis, i.e., classifying sentences into given sentiment labels, including positive, negative and neutral.\n",
        "\n",
        "We use a benckmark dataset (i.e., SST) for this task. First, let's download the SST dataset, and do some preprocessing to build vocabulary and split the dataset into training/validation/test sets. Also, let's define the training and evaluation function. Please do not modify the functions."
      ]
    },
    {
      "cell_type": "code",
      "metadata": {
        "id": "HT8b2nr7Kq73",
        "colab_type": "code",
        "outputId": "2954b9b2-e7ce-45ba-8284-2e7e705c18fc",
        "colab": {
          "base_uri": "https://localhost:8080/",
          "height": 68
        }
      },
      "source": [
        "import copy\n",
        "import torch\n",
        "from torch import nn\n",
        "from torch import optim\n",
        "import torchtext\n",
        "from torchtext import data\n",
        "from torchtext import datasets\n",
        "\n",
        "TEXT = data.Field(sequential=True, batch_first=True, lower=True)\n",
        "LABEL = data.LabelField()\n",
        "\n",
        "# load data splits\n",
        "train_data, val_data, test_data = datasets.SST.splits(TEXT, LABEL)\n",
        "\n",
        "# build dictionary\n",
        "TEXT.build_vocab(train_data)\n",
        "LABEL.build_vocab(train_data)\n",
        "\n",
        "vocab_size = len(TEXT.vocab)\n",
        "label_size = len(LABEL.vocab)\n",
        "padding_idx = TEXT.vocab.stoi['<pad>']\n",
        "embedding_dim = 128\n",
        "hidden_dim = 128\n",
        "\n",
        "# build iterators\n",
        "train_iter, val_iter, test_iter = data.BucketIterator.splits(\n",
        "    (train_data, val_data, test_data), \n",
        "    batch_size=32)\n",
        "\n",
        "# train a model\n",
        "# DO NOT MODIFY\n",
        "def train(model, iterator, optimizer, criterion):\n",
        "    total_loss, total_correct, total_prediction = 0.0, 0.0, 0.0\n",
        "    model.train()\n",
        "    for batch in iterator:\n",
        "        optimizer.zero_grad()\n",
        "        logits = model(batch.text.cuda())\n",
        "        predictions = torch.max(logits, dim=-1)[1]\n",
        "        loss = criterion(logits, batch.label.cuda())\n",
        "        loss.backward()\n",
        "        optimizer.step()\n",
        "        \n",
        "        total_loss += loss.item()\n",
        "        total_correct += torch.eq(predictions, batch.label.cuda()).sum().item()\n",
        "        total_prediction += batch.label.size(0)\n",
        "    return total_loss / len(iterator), total_correct / total_prediction\n",
        "\n",
        "# evaluate a model\n",
        "# DO NOT MODIFY\n",
        "def evaluate(model, iterator, criterion):  \n",
        "    total_loss, total_correct, total_prediction = 0.0, 0.0, 0.0\n",
        "    model.eval()\n",
        "    with torch.no_grad():\n",
        "        for batch in iterator:\n",
        "            logits = model(batch.text.cuda())\n",
        "            predictions = torch.max(logits, dim=-1)[1]\n",
        "            loss = criterion(logits, batch.label.cuda())\n",
        "\n",
        "            total_loss += loss.item()\n",
        "            total_correct += torch.eq(predictions, batch.label.cuda()).sum().item()\n",
        "            total_prediction += batch.label.size(0)\n",
        "    return total_loss / len(iterator), total_correct / total_prediction"
      ],
      "execution_count": 0,
      "outputs": [
        {
          "output_type": "stream",
          "text": [
            "downloading trainDevTestTrees_PTB.zip\n"
          ],
          "name": "stdout"
        },
        {
          "output_type": "stream",
          "text": [
            "trainDevTestTrees_PTB.zip: 100%|██████████| 790k/790k [00:00<00:00, 956kB/s]\n"
          ],
          "name": "stderr"
        },
        {
          "output_type": "stream",
          "text": [
            "extracting\n"
          ],
          "name": "stdout"
        }
      ]
    },
    {
      "cell_type": "markdown",
      "metadata": {
        "id": "pbWxFDZdK6rf",
        "colab_type": "text"
      },
      "source": [
        "Next, we are ready to build our RNN model for sentiment analysis. In the following codes, we have provided several hyperparameters we needed for building the model, including vocabulary size (vocab_size), the word embedding dimension (embedding_dim), the hidden layer dimension (hidden_dim), the number of layers (num_layers) and the number of sentence labels (label_size). Please fill in the missing codes, and implement a RNN model."
      ]
    },
    {
      "cell_type": "code",
      "metadata": {
        "id": "kWUKPgDGNQSr",
        "colab_type": "code",
        "colab": {}
      },
      "source": [
        "class RNNClassifier(nn.Module):\n",
        "    def __init__(self, vocab_size, embedding_dim, hidden_dim, label_size, padding_idx):\n",
        "        super(RNNClassifier, self).__init__()\n",
        "        self.vocab_size = vocab_size\n",
        "        self.embedding_dim = embedding_dim\n",
        "        self.hidden_dim = hidden_dim\n",
        "        self.label_size = label_size\n",
        "        self.num_layers = 1\n",
        "\n",
        "        # add the layers required for sentiment analysis.\n",
        "        self.embedding = nn.Embedding(self.vocab_size, self.embedding_dim, padding_idx=padding_idx)\n",
        "        self.rnn = nn.RNN(self.embedding_dim, self.hidden_dim, batch_first=True)\n",
        "        self.h2l = nn.Linear(self.hidden_dim, self.label_size)\n",
        "\n",
        "    def zero_state(self, batch_size): \n",
        "        # implement the function, which returns an initial hidden state.\n",
        "        return torch.zeros(self.num_layers, batch_size, self.hidden_dim).cuda()\n",
        "\n",
        "    def forward(self, text):\n",
        "        # implement the forward function of the model.\n",
        "        x = self.embedding(text)\n",
        "        output, _ = self.rnn(x, self.zero_state(len(text)))\n",
        "        output = self.h2l(output[:, -1, :])\n",
        "        return output"
      ],
      "execution_count": 0,
      "outputs": []
    },
    {
      "cell_type": "markdown",
      "metadata": {
        "id": "EBX_xc9MN0gw",
        "colab_type": "text"
      },
      "source": [
        "Finally, we are ready to train the model and compute the accuracy."
      ]
    },
    {
      "cell_type": "markdown",
      "metadata": {
        "id": "n21O1fjeuTnb",
        "colab_type": "text"
      },
      "source": [
        "**Subtask 2**"
      ]
    },
    {
      "cell_type": "code",
      "metadata": {
        "id": "KQrU0wuUOIgb",
        "colab_type": "code",
        "outputId": "15e5d9b4-02f8-4443-8273-759a97319a36",
        "colab": {
          "base_uri": "https://localhost:8080/",
          "height": 1000
        }
      },
      "source": [
        "model = RNNClassifier(vocab_size, embedding_dim, hidden_dim, label_size, padding_idx)\n",
        "# tune the optimizer type and hyperparameters here\n",
        "criterion = nn.CrossEntropyLoss()\n",
        "criterion.cuda()\n",
        "model.cuda()\n",
        "\n",
        "optimizers = [optim.Adam, optim.SGD, optim.RMSprop]\n",
        "learning_rates = [1e-1, 1e-2, 1e-3, 1e-4]\n",
        "\n",
        "for o in optimizers:\n",
        "  for l in learning_rates:\n",
        "    print('\\nTrain for: optimizer {0}, learning rate {1}'.format(str(o), l, ))\n",
        "    optimizer = o(model.parameters(), lr=l)\n",
        "\n",
        "    # train and test the model\n",
        "    # DO NOT MODIFY\n",
        "    best_valid_acc = 0.0\n",
        "    best_state_dict = copy.deepcopy(model.state_dict())\n",
        "    for epoch in range(20):\n",
        "        train_loss, train_acc = train(model, train_iter, optimizer, criterion)\n",
        "        valid_loss, valid_acc = evaluate(model, val_iter, criterion)\n",
        "\n",
        "        print('Epoch {} | Train loss {:.3f} | Valid loss {:.3f} | Valid acc {:.3f}'.format(epoch, train_loss, valid_loss, valid_acc))\n",
        "\n",
        "        if valid_acc > best_valid_acc:\n",
        "            best_valid_acc = valid_acc\n",
        "            best_state_dict = copy.deepcopy(model.state_dict())\n",
        "    print(best_valid_acc)"
      ],
      "execution_count": 0,
      "outputs": [
        {
          "output_type": "stream",
          "text": [
            "\n",
            "Train for: optimizer <class 'torch.optim.adam.Adam'>, learning rate 0.1\n",
            "Epoch 0 | Train loss 1.624 | Valid loss 1.516 | Valid acc 0.388\n",
            "Epoch 1 | Train loss 1.678 | Valid loss 1.577 | Valid acc 0.281\n",
            "Epoch 2 | Train loss 1.541 | Valid loss 1.599 | Valid acc 0.317\n",
            "Epoch 3 | Train loss 1.630 | Valid loss 2.761 | Valid acc 0.333\n",
            "Epoch 4 | Train loss 1.637 | Valid loss 3.095 | Valid acc 0.238\n",
            "Epoch 5 | Train loss 1.835 | Valid loss 1.906 | Valid acc 0.404\n",
            "Epoch 6 | Train loss 1.778 | Valid loss 1.413 | Valid acc 0.480\n",
            "Epoch 7 | Train loss 1.900 | Valid loss 2.060 | Valid acc 0.221\n",
            "Epoch 8 | Train loss 1.803 | Valid loss 1.923 | Valid acc 0.376\n",
            "Epoch 9 | Train loss 1.992 | Valid loss 1.346 | Valid acc 0.415\n",
            "Epoch 10 | Train loss 2.035 | Valid loss 3.274 | Valid acc 0.223\n",
            "Epoch 11 | Train loss 1.994 | Valid loss 3.100 | Valid acc 0.379\n",
            "Epoch 12 | Train loss 1.747 | Valid loss 1.325 | Valid acc 0.294\n",
            "Epoch 13 | Train loss 1.855 | Valid loss 1.804 | Valid acc 0.239\n",
            "Epoch 14 | Train loss 1.879 | Valid loss 1.776 | Valid acc 0.371\n",
            "Epoch 15 | Train loss 1.783 | Valid loss 1.430 | Valid acc 0.393\n",
            "Epoch 16 | Train loss 1.681 | Valid loss 1.953 | Valid acc 0.502\n",
            "Epoch 17 | Train loss 1.824 | Valid loss 2.041 | Valid acc 0.394\n",
            "Epoch 18 | Train loss 1.743 | Valid loss 2.101 | Valid acc 0.245\n",
            "Epoch 19 | Train loss 1.797 | Valid loss 1.344 | Valid acc 0.426\n",
            "0.5022706630336058\n",
            "\n",
            "Train for: optimizer <class 'torch.optim.adam.Adam'>, learning rate 0.01\n",
            "Epoch 0 | Train loss 1.201 | Valid loss 1.063 | Valid acc 0.519\n",
            "Epoch 1 | Train loss 1.124 | Valid loss 1.028 | Valid acc 0.541\n",
            "Epoch 2 | Train loss 1.128 | Valid loss 1.108 | Valid acc 0.410\n",
            "Epoch 3 | Train loss 1.128 | Valid loss 1.055 | Valid acc 0.532\n",
            "Epoch 4 | Train loss 1.121 | Valid loss 1.208 | Valid acc 0.292\n",
            "Epoch 5 | Train loss 1.116 | Valid loss 1.137 | Valid acc 0.269\n",
            "Epoch 6 | Train loss 1.131 | Valid loss 1.111 | Valid acc 0.417\n",
            "Epoch 7 | Train loss 1.116 | Valid loss 1.310 | Valid acc 0.405\n",
            "Epoch 8 | Train loss 1.117 | Valid loss 1.173 | Valid acc 0.280\n",
            "Epoch 9 | Train loss 1.121 | Valid loss 1.106 | Valid acc 0.423\n",
            "Epoch 10 | Train loss 1.117 | Valid loss 1.058 | Valid acc 0.534\n",
            "Epoch 11 | Train loss 1.120 | Valid loss 1.136 | Valid acc 0.387\n",
            "Epoch 12 | Train loss 1.116 | Valid loss 1.067 | Valid acc 0.523\n",
            "Epoch 13 | Train loss 1.123 | Valid loss 1.050 | Valid acc 0.547\n",
            "Epoch 14 | Train loss 1.130 | Valid loss 1.039 | Valid acc 0.564\n",
            "Epoch 15 | Train loss 1.120 | Valid loss 1.104 | Valid acc 0.420\n",
            "Epoch 16 | Train loss 1.114 | Valid loss 1.033 | Valid acc 0.547\n",
            "Epoch 17 | Train loss 1.118 | Valid loss 1.127 | Valid acc 0.273\n",
            "Epoch 18 | Train loss 1.108 | Valid loss 1.107 | Valid acc 0.384\n",
            "Epoch 19 | Train loss 1.118 | Valid loss 1.107 | Valid acc 0.381\n",
            "0.5640326975476839\n",
            "\n",
            "Train for: optimizer <class 'torch.optim.adam.Adam'>, learning rate 0.001\n",
            "Epoch 0 | Train loss 1.071 | Valid loss 1.061 | Valid acc 0.401\n",
            "Epoch 1 | Train loss 1.059 | Valid loss 1.063 | Valid acc 0.401\n",
            "Epoch 2 | Train loss 1.058 | Valid loss 1.047 | Valid acc 0.427\n",
            "Epoch 3 | Train loss 1.058 | Valid loss 1.074 | Valid acc 0.406\n",
            "Epoch 4 | Train loss 1.053 | Valid loss 1.060 | Valid acc 0.460\n",
            "Epoch 5 | Train loss 1.056 | Valid loss 1.085 | Valid acc 0.401\n",
            "Epoch 6 | Train loss 1.056 | Valid loss 1.073 | Valid acc 0.351\n",
            "Epoch 7 | Train loss 1.055 | Valid loss 1.096 | Valid acc 0.347\n",
            "Epoch 8 | Train loss 1.057 | Valid loss 1.062 | Valid acc 0.417\n",
            "Epoch 9 | Train loss 1.055 | Valid loss 1.117 | Valid acc 0.411\n",
            "Epoch 10 | Train loss 1.054 | Valid loss 1.072 | Valid acc 0.404\n",
            "Epoch 11 | Train loss 1.054 | Valid loss 1.096 | Valid acc 0.232\n",
            "Epoch 12 | Train loss 1.054 | Valid loss 1.091 | Valid acc 0.399\n",
            "Epoch 13 | Train loss 1.056 | Valid loss 1.082 | Valid acc 0.405\n",
            "Epoch 14 | Train loss 1.054 | Valid loss 1.127 | Valid acc 0.327\n",
            "Epoch 15 | Train loss 1.054 | Valid loss 1.049 | Valid acc 0.403\n",
            "Epoch 16 | Train loss 1.053 | Valid loss 1.063 | Valid acc 0.393\n",
            "Epoch 17 | Train loss 1.054 | Valid loss 1.020 | Valid acc 0.552\n",
            "Epoch 18 | Train loss 1.056 | Valid loss 1.027 | Valid acc 0.540\n",
            "Epoch 19 | Train loss 1.054 | Valid loss 1.072 | Valid acc 0.401\n",
            "0.5522252497729337\n",
            "\n",
            "Train for: optimizer <class 'torch.optim.adam.Adam'>, learning rate 0.0001\n",
            "Epoch 0 | Train loss 1.049 | Valid loss 1.066 | Valid acc 0.401\n",
            "Epoch 1 | Train loss 1.050 | Valid loss 1.071 | Valid acc 0.400\n",
            "Epoch 2 | Train loss 1.050 | Valid loss 1.071 | Valid acc 0.398\n",
            "Epoch 3 | Train loss 1.049 | Valid loss 1.064 | Valid acc 0.397\n",
            "Epoch 4 | Train loss 1.048 | Valid loss 1.076 | Valid acc 0.396\n",
            "Epoch 5 | Train loss 1.048 | Valid loss 1.067 | Valid acc 0.396\n",
            "Epoch 6 | Train loss 1.049 | Valid loss 1.075 | Valid acc 0.399\n",
            "Epoch 7 | Train loss 1.048 | Valid loss 1.081 | Valid acc 0.401\n",
            "Epoch 8 | Train loss 1.047 | Valid loss 1.081 | Valid acc 0.398\n",
            "Epoch 9 | Train loss 1.049 | Valid loss 1.073 | Valid acc 0.395\n",
            "Epoch 10 | Train loss 1.047 | Valid loss 1.065 | Valid acc 0.397\n",
            "Epoch 11 | Train loss 1.048 | Valid loss 1.074 | Valid acc 0.397\n",
            "Epoch 12 | Train loss 1.048 | Valid loss 1.071 | Valid acc 0.397\n",
            "Epoch 13 | Train loss 1.047 | Valid loss 1.079 | Valid acc 0.401\n",
            "Epoch 14 | Train loss 1.048 | Valid loss 1.084 | Valid acc 0.397\n",
            "Epoch 15 | Train loss 1.049 | Valid loss 1.075 | Valid acc 0.399\n",
            "Epoch 16 | Train loss 1.048 | Valid loss 1.069 | Valid acc 0.397\n",
            "Epoch 17 | Train loss 1.047 | Valid loss 1.070 | Valid acc 0.398\n",
            "Epoch 18 | Train loss 1.047 | Valid loss 1.066 | Valid acc 0.397\n",
            "Epoch 19 | Train loss 1.048 | Valid loss 1.070 | Valid acc 0.398\n",
            "0.4014532243415077\n",
            "\n",
            "Train for: optimizer <class 'torch.optim.sgd.SGD'>, learning rate 0.1\n",
            "Epoch 0 | Train loss 1.130 | Valid loss 1.146 | Valid acc 0.248\n",
            "Epoch 1 | Train loss 1.127 | Valid loss 1.173 | Valid acc 0.393\n",
            "Epoch 2 | Train loss 1.136 | Valid loss 1.163 | Valid acc 0.386\n",
            "Epoch 3 | Train loss 1.129 | Valid loss 1.160 | Valid acc 0.243\n",
            "Epoch 4 | Train loss 1.139 | Valid loss 1.097 | Valid acc 0.406\n",
            "Epoch 5 | Train loss 1.131 | Valid loss 1.077 | Valid acc 0.411\n",
            "Epoch 6 | Train loss 1.135 | Valid loss 1.098 | Valid acc 0.370\n",
            "Epoch 7 | Train loss 1.134 | Valid loss 1.114 | Valid acc 0.411\n",
            "Epoch 8 | Train loss 1.133 | Valid loss 1.122 | Valid acc 0.411\n",
            "Epoch 9 | Train loss 1.129 | Valid loss 1.069 | Valid acc 0.410\n",
            "Epoch 10 | Train loss 1.128 | Valid loss 1.234 | Valid acc 0.410\n",
            "Epoch 11 | Train loss 1.136 | Valid loss 1.136 | Valid acc 0.411\n",
            "Epoch 12 | Train loss 1.135 | Valid loss 1.120 | Valid acc 0.411\n",
            "Epoch 13 | Train loss 1.138 | Valid loss 1.088 | Valid acc 0.388\n",
            "Epoch 14 | Train loss 1.120 | Valid loss 1.034 | Valid acc 0.553\n",
            "Epoch 15 | Train loss 1.129 | Valid loss 1.022 | Valid acc 0.554\n",
            "Epoch 16 | Train loss 1.127 | Valid loss 1.132 | Valid acc 0.551\n",
            "Epoch 17 | Train loss 1.132 | Valid loss 1.156 | Valid acc 0.385\n",
            "Epoch 18 | Train loss 1.128 | Valid loss 1.021 | Valid acc 0.556\n",
            "Epoch 19 | Train loss 1.130 | Valid loss 1.082 | Valid acc 0.411\n",
            "0.555858310626703\n",
            "\n",
            "Train for: optimizer <class 'torch.optim.sgd.SGD'>, learning rate 0.01\n",
            "Epoch 0 | Train loss 1.067 | Valid loss 1.053 | Valid acc 0.402\n",
            "Epoch 1 | Train loss 1.052 | Valid loss 1.063 | Valid acc 0.441\n",
            "Epoch 2 | Train loss 1.060 | Valid loss 1.065 | Valid acc 0.416\n",
            "Epoch 3 | Train loss 1.056 | Valid loss 1.064 | Valid acc 0.447\n",
            "Epoch 4 | Train loss 1.056 | Valid loss 1.111 | Valid acc 0.413\n",
            "Epoch 5 | Train loss 1.056 | Valid loss 1.041 | Valid acc 0.436\n",
            "Epoch 6 | Train loss 1.052 | Valid loss 1.049 | Valid acc 0.544\n",
            "Epoch 7 | Train loss 1.054 | Valid loss 1.077 | Valid acc 0.402\n",
            "Epoch 8 | Train loss 1.054 | Valid loss 1.045 | Valid acc 0.425\n",
            "Epoch 9 | Train loss 1.052 | Valid loss 1.035 | Valid acc 0.436\n",
            "Epoch 10 | Train loss 1.053 | Valid loss 1.045 | Valid acc 0.426\n",
            "Epoch 11 | Train loss 1.053 | Valid loss 1.079 | Valid acc 0.403\n",
            "Epoch 12 | Train loss 1.052 | Valid loss 1.058 | Valid acc 0.427\n",
            "Epoch 13 | Train loss 1.053 | Valid loss 1.026 | Valid acc 0.544\n",
            "Epoch 14 | Train loss 1.054 | Valid loss 1.048 | Valid acc 0.400\n",
            "Epoch 15 | Train loss 1.053 | Valid loss 1.064 | Valid acc 0.401\n",
            "Epoch 16 | Train loss 1.052 | Valid loss 1.059 | Valid acc 0.408\n",
            "Epoch 17 | Train loss 1.053 | Valid loss 1.040 | Valid acc 0.395\n",
            "Epoch 18 | Train loss 1.052 | Valid loss 1.065 | Valid acc 0.408\n",
            "Epoch 19 | Train loss 1.052 | Valid loss 1.046 | Valid acc 0.411\n",
            "0.5440508628519528\n",
            "\n",
            "Train for: optimizer <class 'torch.optim.sgd.SGD'>, learning rate 0.001\n",
            "Epoch 0 | Train loss 1.050 | Valid loss 1.067 | Valid acc 0.400\n",
            "Epoch 1 | Train loss 1.048 | Valid loss 1.069 | Valid acc 0.402\n",
            "Epoch 2 | Train loss 1.048 | Valid loss 1.063 | Valid acc 0.401\n",
            "Epoch 3 | Train loss 1.047 | Valid loss 1.067 | Valid acc 0.407\n",
            "Epoch 4 | Train loss 1.047 | Valid loss 1.070 | Valid acc 0.400\n",
            "Epoch 5 | Train loss 1.047 | Valid loss 1.066 | Valid acc 0.401\n",
            "Epoch 6 | Train loss 1.048 | Valid loss 1.073 | Valid acc 0.401\n",
            "Epoch 7 | Train loss 1.047 | Valid loss 1.069 | Valid acc 0.401\n",
            "Epoch 8 | Train loss 1.047 | Valid loss 1.069 | Valid acc 0.403\n",
            "Epoch 9 | Train loss 1.049 | Valid loss 1.061 | Valid acc 0.403\n",
            "Epoch 10 | Train loss 1.046 | Valid loss 1.062 | Valid acc 0.401\n",
            "Epoch 11 | Train loss 1.048 | Valid loss 1.056 | Valid acc 0.406\n",
            "Epoch 12 | Train loss 1.047 | Valid loss 1.060 | Valid acc 0.401\n",
            "Epoch 13 | Train loss 1.047 | Valid loss 1.056 | Valid acc 0.402\n",
            "Epoch 14 | Train loss 1.048 | Valid loss 1.054 | Valid acc 0.402\n",
            "Epoch 15 | Train loss 1.047 | Valid loss 1.055 | Valid acc 0.401\n",
            "Epoch 16 | Train loss 1.047 | Valid loss 1.050 | Valid acc 0.405\n",
            "Epoch 17 | Train loss 1.048 | Valid loss 1.053 | Valid acc 0.403\n",
            "Epoch 18 | Train loss 1.047 | Valid loss 1.058 | Valid acc 0.407\n",
            "Epoch 19 | Train loss 1.047 | Valid loss 1.057 | Valid acc 0.402\n",
            "0.4069028156221617\n",
            "\n",
            "Train for: optimizer <class 'torch.optim.sgd.SGD'>, learning rate 0.0001\n",
            "Epoch 0 | Train loss 1.047 | Valid loss 1.057 | Valid acc 0.403\n",
            "Epoch 1 | Train loss 1.047 | Valid loss 1.056 | Valid acc 0.402\n",
            "Epoch 2 | Train loss 1.047 | Valid loss 1.056 | Valid acc 0.401\n",
            "Epoch 3 | Train loss 1.047 | Valid loss 1.056 | Valid acc 0.402\n",
            "Epoch 4 | Train loss 1.048 | Valid loss 1.056 | Valid acc 0.403\n",
            "Epoch 5 | Train loss 1.047 | Valid loss 1.057 | Valid acc 0.403\n",
            "Epoch 6 | Train loss 1.047 | Valid loss 1.058 | Valid acc 0.402\n",
            "Epoch 7 | Train loss 1.047 | Valid loss 1.057 | Valid acc 0.402\n",
            "Epoch 8 | Train loss 1.047 | Valid loss 1.058 | Valid acc 0.403\n",
            "Epoch 9 | Train loss 1.047 | Valid loss 1.056 | Valid acc 0.401\n",
            "Epoch 10 | Train loss 1.048 | Valid loss 1.056 | Valid acc 0.401\n",
            "Epoch 11 | Train loss 1.046 | Valid loss 1.056 | Valid acc 0.401\n",
            "Epoch 12 | Train loss 1.047 | Valid loss 1.056 | Valid acc 0.402\n",
            "Epoch 13 | Train loss 1.047 | Valid loss 1.056 | Valid acc 0.402\n",
            "Epoch 14 | Train loss 1.046 | Valid loss 1.056 | Valid acc 0.402\n",
            "Epoch 15 | Train loss 1.046 | Valid loss 1.055 | Valid acc 0.402\n",
            "Epoch 16 | Train loss 1.047 | Valid loss 1.055 | Valid acc 0.402\n",
            "Epoch 17 | Train loss 1.046 | Valid loss 1.054 | Valid acc 0.401\n",
            "Epoch 18 | Train loss 1.047 | Valid loss 1.055 | Valid acc 0.401\n",
            "Epoch 19 | Train loss 1.046 | Valid loss 1.056 | Valid acc 0.402\n",
            "0.4032697547683924\n",
            "\n",
            "Train for: optimizer <class 'torch.optim.rmsprop.RMSprop'>, learning rate 0.1\n",
            "Epoch 0 | Train loss 4.741 | Valid loss 2.493 | Valid acc 0.371\n",
            "Epoch 1 | Train loss 3.214 | Valid loss 2.176 | Valid acc 0.375\n",
            "Epoch 2 | Train loss 3.045 | Valid loss 3.529 | Valid acc 0.415\n",
            "Epoch 3 | Train loss 3.171 | Valid loss 1.844 | Valid acc 0.395\n",
            "Epoch 4 | Train loss 3.163 | Valid loss 2.993 | Valid acc 0.393\n",
            "Epoch 5 | Train loss 3.128 | Valid loss 4.993 | Valid acc 0.406\n",
            "Epoch 6 | Train loss 3.031 | Valid loss 2.660 | Valid acc 0.389\n",
            "Epoch 7 | Train loss 3.147 | Valid loss 2.168 | Valid acc 0.550\n",
            "Epoch 8 | Train loss 3.125 | Valid loss 3.557 | Valid acc 0.356\n",
            "Epoch 9 | Train loss 3.170 | Valid loss 5.564 | Valid acc 0.381\n",
            "Epoch 10 | Train loss 3.172 | Valid loss 2.672 | Valid acc 0.401\n",
            "Epoch 11 | Train loss 3.094 | Valid loss 3.238 | Valid acc 0.240\n",
            "Epoch 12 | Train loss 3.118 | Valid loss 3.015 | Valid acc 0.243\n",
            "Epoch 13 | Train loss 3.103 | Valid loss 2.302 | Valid acc 0.234\n",
            "Epoch 14 | Train loss 3.141 | Valid loss 1.620 | Valid acc 0.523\n",
            "Epoch 15 | Train loss 3.149 | Valid loss 3.452 | Valid acc 0.240\n",
            "Epoch 16 | Train loss 3.158 | Valid loss 1.692 | Valid acc 0.552\n",
            "Epoch 17 | Train loss 3.193 | Valid loss 2.851 | Valid acc 0.210\n",
            "Epoch 18 | Train loss 3.280 | Valid loss 1.723 | Valid acc 0.388\n",
            "Epoch 19 | Train loss 3.286 | Valid loss 2.973 | Valid acc 0.415\n",
            "0.5522252497729337\n",
            "\n",
            "Train for: optimizer <class 'torch.optim.rmsprop.RMSprop'>, learning rate 0.01\n",
            "Epoch 0 | Train loss 1.277 | Valid loss 1.176 | Valid acc 0.371\n",
            "Epoch 1 | Train loss 1.155 | Valid loss 1.067 | Valid acc 0.548\n",
            "Epoch 2 | Train loss 1.148 | Valid loss 1.178 | Valid acc 0.402\n",
            "Epoch 3 | Train loss 1.148 | Valid loss 1.123 | Valid acc 0.284\n",
            "Epoch 4 | Train loss 1.143 | Valid loss 1.052 | Valid acc 0.549\n",
            "Epoch 5 | Train loss 1.147 | Valid loss 1.044 | Valid acc 0.539\n",
            "Epoch 6 | Train loss 1.143 | Valid loss 1.278 | Valid acc 0.234\n",
            "Epoch 7 | Train loss 1.139 | Valid loss 1.084 | Valid acc 0.543\n",
            "Epoch 8 | Train loss 1.151 | Valid loss 1.379 | Valid acc 0.412\n",
            "Epoch 9 | Train loss 1.138 | Valid loss 1.145 | Valid acc 0.397\n",
            "Epoch 10 | Train loss 1.144 | Valid loss 1.055 | Valid acc 0.548\n",
            "Epoch 11 | Train loss 1.146 | Valid loss 1.113 | Valid acc 0.251\n",
            "Epoch 12 | Train loss 1.139 | Valid loss 1.123 | Valid acc 0.401\n",
            "Epoch 13 | Train loss 1.140 | Valid loss 1.119 | Valid acc 0.415\n",
            "Epoch 14 | Train loss 1.144 | Valid loss 1.043 | Valid acc 0.420\n",
            "Epoch 15 | Train loss 1.145 | Valid loss 1.089 | Valid acc 0.393\n",
            "Epoch 16 | Train loss 1.140 | Valid loss 1.178 | Valid acc 0.402\n",
            "Epoch 17 | Train loss 1.142 | Valid loss 1.152 | Valid acc 0.417\n",
            "Epoch 18 | Train loss 1.142 | Valid loss 1.142 | Valid acc 0.388\n",
            "Epoch 19 | Train loss 1.140 | Valid loss 1.094 | Valid acc 0.412\n",
            "0.5485921889191644\n",
            "\n",
            "Train for: optimizer <class 'torch.optim.rmsprop.RMSprop'>, learning rate 0.001\n",
            "Epoch 0 | Train loss 1.065 | Valid loss 1.082 | Valid acc 0.401\n",
            "Epoch 1 | Train loss 1.057 | Valid loss 1.087 | Valid acc 0.408\n",
            "Epoch 2 | Train loss 1.059 | Valid loss 1.085 | Valid acc 0.407\n",
            "Epoch 3 | Train loss 1.055 | Valid loss 1.056 | Valid acc 0.397\n",
            "Epoch 4 | Train loss 1.057 | Valid loss 1.067 | Valid acc 0.402\n",
            "Epoch 5 | Train loss 1.055 | Valid loss 1.096 | Valid acc 0.405\n",
            "Epoch 6 | Train loss 1.054 | Valid loss 1.060 | Valid acc 0.405\n",
            "Epoch 7 | Train loss 1.055 | Valid loss 1.043 | Valid acc 0.406\n",
            "Epoch 8 | Train loss 1.053 | Valid loss 1.106 | Valid acc 0.251\n",
            "Epoch 9 | Train loss 1.052 | Valid loss 1.048 | Valid acc 0.399\n",
            "Epoch 10 | Train loss 1.053 | Valid loss 1.114 | Valid acc 0.402\n",
            "Epoch 11 | Train loss 1.055 | Valid loss 1.062 | Valid acc 0.404\n",
            "Epoch 12 | Train loss 1.054 | Valid loss 1.053 | Valid acc 0.412\n",
            "Epoch 13 | Train loss 1.057 | Valid loss 1.056 | Valid acc 0.398\n",
            "Epoch 14 | Train loss 1.054 | Valid loss 1.042 | Valid acc 0.396\n",
            "Epoch 15 | Train loss 1.055 | Valid loss 1.079 | Valid acc 0.404\n",
            "Epoch 16 | Train loss 1.055 | Valid loss 1.066 | Valid acc 0.400\n",
            "Epoch 17 | Train loss 1.055 | Valid loss 1.067 | Valid acc 0.396\n",
            "Epoch 18 | Train loss 1.054 | Valid loss 1.088 | Valid acc 0.257\n",
            "Epoch 19 | Train loss 1.054 | Valid loss 1.058 | Valid acc 0.399\n",
            "0.4123524069028156\n",
            "\n",
            "Train for: optimizer <class 'torch.optim.rmsprop.RMSprop'>, learning rate 0.0001\n",
            "Epoch 0 | Train loss 1.049 | Valid loss 1.051 | Valid acc 0.402\n",
            "Epoch 1 | Train loss 1.048 | Valid loss 1.048 | Valid acc 0.403\n",
            "Epoch 2 | Train loss 1.048 | Valid loss 1.059 | Valid acc 0.403\n",
            "Epoch 3 | Train loss 1.048 | Valid loss 1.048 | Valid acc 0.398\n",
            "Epoch 4 | Train loss 1.047 | Valid loss 1.055 | Valid acc 0.403\n",
            "Epoch 5 | Train loss 1.047 | Valid loss 1.046 | Valid acc 0.402\n",
            "Epoch 6 | Train loss 1.047 | Valid loss 1.054 | Valid acc 0.404\n",
            "Epoch 7 | Train loss 1.047 | Valid loss 1.047 | Valid acc 0.403\n",
            "Epoch 8 | Train loss 1.047 | Valid loss 1.054 | Valid acc 0.401\n",
            "Epoch 9 | Train loss 1.047 | Valid loss 1.054 | Valid acc 0.400\n",
            "Epoch 10 | Train loss 1.048 | Valid loss 1.056 | Valid acc 0.402\n",
            "Epoch 11 | Train loss 1.046 | Valid loss 1.044 | Valid acc 0.402\n",
            "Epoch 12 | Train loss 1.046 | Valid loss 1.048 | Valid acc 0.401\n",
            "Epoch 13 | Train loss 1.048 | Valid loss 1.051 | Valid acc 0.401\n",
            "Epoch 14 | Train loss 1.046 | Valid loss 1.041 | Valid acc 0.401\n",
            "Epoch 15 | Train loss 1.047 | Valid loss 1.054 | Valid acc 0.398\n",
            "Epoch 16 | Train loss 1.047 | Valid loss 1.051 | Valid acc 0.398\n",
            "Epoch 17 | Train loss 1.047 | Valid loss 1.062 | Valid acc 0.405\n",
            "Epoch 18 | Train loss 1.047 | Valid loss 1.053 | Valid acc 0.398\n",
            "Epoch 19 | Train loss 1.047 | Valid loss 1.053 | Valid acc 0.399\n",
            "0.405086285195277\n"
          ],
          "name": "stdout"
        }
      ]
    },
    {
      "cell_type": "markdown",
      "metadata": {
        "id": "FFC_oBbzuW_k",
        "colab_type": "text"
      },
      "source": [
        "**Subtask 3**"
      ]
    },
    {
      "cell_type": "code",
      "metadata": {
        "id": "fxAenOZEWyMM",
        "colab_type": "code",
        "outputId": "97cf1110-da82-4e5a-bc36-0c443ffd6d87",
        "colab": {
          "base_uri": "https://localhost:8080/",
          "height": 1000
        }
      },
      "source": [
        "model = RNNClassifier(vocab_size, embedding_dim, hidden_dim, label_size, padding_idx)\n",
        "# tune the optimizer type and hyperparameters here\n",
        "criterion = nn.CrossEntropyLoss()\n",
        "criterion.cuda()\n",
        "model.cuda()\n",
        "optimizer = optim.Adam(model.parameters(), lr=1e-1)\n",
        "epochs = [10, 20, 30, 40, 50]\n",
        "\n",
        "for i in epochs:\n",
        "  print('Train for {} of epochs'.format(i))\n",
        "  \n",
        "  # train and test the model\n",
        "  # DO NOT MODIFY\n",
        "  best_train_acc = 0.0\n",
        "  best_valid_acc = 0.0\n",
        "  best_state_dict = copy.deepcopy(model.state_dict())\n",
        "  for epoch in range(i):\n",
        "      train_loss, train_acc = train(model, train_iter, optimizer, criterion)\n",
        "      valid_loss, valid_acc = evaluate(model, val_iter, criterion)\n",
        "\n",
        "      print('Epoch {} | Train loss {:.3f} | Valid loss {:.3f} | Valid acc {:.3f}'.format(epoch, train_loss, valid_loss, valid_acc))\n",
        "\n",
        "      if train_acc > best_train_acc:\n",
        "        best_train_acc = train_acc\n",
        "\n",
        "      if valid_acc > best_valid_acc:\n",
        "          best_valid_acc = valid_acc\n",
        "          best_state_dict = copy.deepcopy(model.state_dict())\n",
        "  print(best_valid_acc, best_train_acc)"
      ],
      "execution_count": 0,
      "outputs": [
        {
          "output_type": "stream",
          "text": [
            "Train for 10 of epochs\n",
            "Epoch 0 | Train loss 1.721 | Valid loss 2.161 | Valid acc 0.267\n",
            "Epoch 1 | Train loss 1.500 | Valid loss 1.475 | Valid acc 0.324\n",
            "Epoch 2 | Train loss 1.390 | Valid loss 1.614 | Valid acc 0.512\n",
            "Epoch 3 | Train loss 1.654 | Valid loss 1.467 | Valid acc 0.409\n",
            "Epoch 4 | Train loss 1.588 | Valid loss 1.369 | Valid acc 0.410\n",
            "Epoch 5 | Train loss 1.504 | Valid loss 1.593 | Valid acc 0.408\n",
            "Epoch 6 | Train loss 1.409 | Valid loss 1.864 | Valid acc 0.400\n",
            "Epoch 7 | Train loss 1.579 | Valid loss 1.108 | Valid acc 0.440\n",
            "Epoch 8 | Train loss 1.618 | Valid loss 1.171 | Valid acc 0.559\n",
            "Epoch 9 | Train loss 1.443 | Valid loss 1.757 | Valid acc 0.360\n",
            "0.5594913714804723 0.3851825842696629\n",
            "Train for 20 of epochs\n",
            "Epoch 0 | Train loss 1.542 | Valid loss 1.405 | Valid acc 0.232\n",
            "Epoch 1 | Train loss 1.472 | Valid loss 1.161 | Valid acc 0.558\n",
            "Epoch 2 | Train loss 1.460 | Valid loss 1.168 | Valid acc 0.407\n",
            "Epoch 3 | Train loss 1.536 | Valid loss 1.751 | Valid acc 0.424\n",
            "Epoch 4 | Train loss 1.649 | Valid loss 1.660 | Valid acc 0.409\n",
            "Epoch 5 | Train loss 1.723 | Valid loss 1.676 | Valid acc 0.228\n",
            "Epoch 6 | Train loss 1.652 | Valid loss 2.001 | Valid acc 0.390\n",
            "Epoch 7 | Train loss 1.806 | Valid loss 1.796 | Valid acc 0.233\n",
            "Epoch 8 | Train loss 1.672 | Valid loss 1.609 | Valid acc 0.407\n",
            "Epoch 9 | Train loss 1.553 | Valid loss 1.446 | Valid acc 0.533\n",
            "Epoch 10 | Train loss 1.753 | Valid loss 2.129 | Valid acc 0.212\n",
            "Epoch 11 | Train loss 1.799 | Valid loss 2.877 | Valid acc 0.417\n",
            "Epoch 12 | Train loss 1.756 | Valid loss 1.749 | Valid acc 0.381\n",
            "Epoch 13 | Train loss 1.622 | Valid loss 1.499 | Valid acc 0.426\n",
            "Epoch 14 | Train loss 1.802 | Valid loss 1.514 | Valid acc 0.425\n",
            "Epoch 15 | Train loss 1.829 | Valid loss 2.395 | Valid acc 0.246\n",
            "Epoch 16 | Train loss 1.692 | Valid loss 1.702 | Valid acc 0.361\n",
            "Epoch 17 | Train loss 1.826 | Valid loss 1.553 | Valid acc 0.233\n",
            "Epoch 18 | Train loss 1.897 | Valid loss 1.540 | Valid acc 0.402\n",
            "Epoch 19 | Train loss 1.881 | Valid loss 2.258 | Valid acc 0.243\n",
            "0.5576748410535877 0.37956460674157305\n",
            "Train for 30 of epochs\n",
            "Epoch 0 | Train loss 1.825 | Valid loss 1.356 | Valid acc 0.361\n",
            "Epoch 1 | Train loss 1.830 | Valid loss 1.624 | Valid acc 0.243\n",
            "Epoch 2 | Train loss 1.651 | Valid loss 1.899 | Valid acc 0.424\n",
            "Epoch 3 | Train loss 1.778 | Valid loss 1.343 | Valid acc 0.229\n",
            "Epoch 4 | Train loss 1.866 | Valid loss 2.556 | Valid acc 0.412\n",
            "Epoch 5 | Train loss 1.608 | Valid loss 1.262 | Valid acc 0.246\n",
            "Epoch 6 | Train loss 2.046 | Valid loss 1.618 | Valid acc 0.380\n",
            "Epoch 7 | Train loss 1.824 | Valid loss 1.587 | Valid acc 0.552\n",
            "Epoch 8 | Train loss 1.696 | Valid loss 1.692 | Valid acc 0.402\n",
            "Epoch 9 | Train loss 1.705 | Valid loss 2.035 | Valid acc 0.389\n",
            "Epoch 10 | Train loss 1.733 | Valid loss 2.073 | Valid acc 0.376\n",
            "Epoch 11 | Train loss 1.740 | Valid loss 1.342 | Valid acc 0.391\n",
            "Epoch 12 | Train loss 1.764 | Valid loss 2.001 | Valid acc 0.406\n",
            "Epoch 13 | Train loss 1.798 | Valid loss 1.273 | Valid acc 0.387\n",
            "Epoch 14 | Train loss 1.664 | Valid loss 2.345 | Valid acc 0.407\n",
            "Epoch 15 | Train loss 1.990 | Valid loss 1.985 | Valid acc 0.401\n",
            "Epoch 16 | Train loss 1.762 | Valid loss 1.884 | Valid acc 0.407\n",
            "Epoch 17 | Train loss 1.717 | Valid loss 1.910 | Valid acc 0.369\n",
            "Epoch 18 | Train loss 1.707 | Valid loss 1.437 | Valid acc 0.550\n",
            "Epoch 19 | Train loss 1.886 | Valid loss 1.964 | Valid acc 0.238\n",
            "Epoch 20 | Train loss 1.692 | Valid loss 1.614 | Valid acc 0.401\n",
            "Epoch 21 | Train loss 1.710 | Valid loss 1.757 | Valid acc 0.410\n",
            "Epoch 22 | Train loss 1.757 | Valid loss 1.425 | Valid acc 0.547\n",
            "Epoch 23 | Train loss 1.875 | Valid loss 1.704 | Valid acc 0.230\n",
            "Epoch 24 | Train loss 1.783 | Valid loss 1.772 | Valid acc 0.382\n",
            "Epoch 25 | Train loss 1.752 | Valid loss 1.222 | Valid acc 0.538\n",
            "Epoch 26 | Train loss 1.762 | Valid loss 2.621 | Valid acc 0.236\n",
            "Epoch 27 | Train loss 1.789 | Valid loss 2.783 | Valid acc 0.418\n",
            "Epoch 28 | Train loss 1.740 | Valid loss 1.848 | Valid acc 0.422\n",
            "Epoch 29 | Train loss 1.671 | Valid loss 1.461 | Valid acc 0.222\n",
            "0.5522252497729337 0.38459737827715357\n",
            "Train for 40 of epochs\n",
            "Epoch 0 | Train loss 1.781 | Valid loss 1.678 | Valid acc 0.252\n",
            "Epoch 1 | Train loss 1.863 | Valid loss 1.553 | Valid acc 0.242\n",
            "Epoch 2 | Train loss 1.852 | Valid loss 1.509 | Valid acc 0.417\n",
            "Epoch 3 | Train loss 1.758 | Valid loss 1.519 | Valid acc 0.248\n",
            "Epoch 4 | Train loss 1.856 | Valid loss 1.634 | Valid acc 0.243\n",
            "Epoch 5 | Train loss 1.619 | Valid loss 1.464 | Valid acc 0.226\n",
            "Epoch 6 | Train loss 1.696 | Valid loss 1.518 | Valid acc 0.561\n",
            "Epoch 7 | Train loss 1.840 | Valid loss 2.675 | Valid acc 0.401\n",
            "Epoch 8 | Train loss 1.664 | Valid loss 1.291 | Valid acc 0.553\n",
            "Epoch 9 | Train loss 1.807 | Valid loss 2.127 | Valid acc 0.411\n",
            "Epoch 10 | Train loss 1.689 | Valid loss 1.391 | Valid acc 0.414\n",
            "Epoch 11 | Train loss 1.687 | Valid loss 1.228 | Valid acc 0.420\n",
            "Epoch 12 | Train loss 1.805 | Valid loss 2.332 | Valid acc 0.384\n",
            "Epoch 13 | Train loss 1.967 | Valid loss 1.295 | Valid acc 0.383\n",
            "Epoch 14 | Train loss 1.823 | Valid loss 1.905 | Valid acc 0.226\n",
            "Epoch 15 | Train loss 1.716 | Valid loss 1.750 | Valid acc 0.322\n",
            "Epoch 16 | Train loss 1.552 | Valid loss 1.707 | Valid acc 0.223\n",
            "Epoch 17 | Train loss 1.634 | Valid loss 1.679 | Valid acc 0.377\n",
            "Epoch 18 | Train loss 1.638 | Valid loss 1.205 | Valid acc 0.534\n",
            "Epoch 19 | Train loss 1.952 | Valid loss 1.485 | Valid acc 0.377\n",
            "Epoch 20 | Train loss 1.743 | Valid loss 1.475 | Valid acc 0.394\n",
            "Epoch 21 | Train loss 1.670 | Valid loss 2.339 | Valid acc 0.368\n",
            "Epoch 22 | Train loss 1.703 | Valid loss 1.827 | Valid acc 0.550\n",
            "Epoch 23 | Train loss 1.794 | Valid loss 1.293 | Valid acc 0.556\n",
            "Epoch 24 | Train loss 1.596 | Valid loss 1.646 | Valid acc 0.405\n",
            "Epoch 25 | Train loss 1.774 | Valid loss 1.393 | Valid acc 0.405\n",
            "Epoch 26 | Train loss 1.751 | Valid loss 1.509 | Valid acc 0.551\n",
            "Epoch 27 | Train loss 1.804 | Valid loss 1.542 | Valid acc 0.255\n",
            "Epoch 28 | Train loss 1.667 | Valid loss 1.404 | Valid acc 0.552\n",
            "Epoch 29 | Train loss 1.821 | Valid loss 1.623 | Valid acc 0.233\n",
            "Epoch 30 | Train loss 1.871 | Valid loss 1.224 | Valid acc 0.542\n",
            "Epoch 31 | Train loss 1.873 | Valid loss 1.862 | Valid acc 0.384\n",
            "Epoch 32 | Train loss 1.712 | Valid loss 1.494 | Valid acc 0.446\n",
            "Epoch 33 | Train loss 1.760 | Valid loss 1.437 | Valid acc 0.227\n",
            "Epoch 34 | Train loss 1.794 | Valid loss 1.781 | Valid acc 0.409\n",
            "Epoch 35 | Train loss 1.785 | Valid loss 2.057 | Valid acc 0.376\n",
            "Epoch 36 | Train loss 1.794 | Valid loss 1.836 | Valid acc 0.409\n",
            "Epoch 37 | Train loss 1.891 | Valid loss 1.665 | Valid acc 0.215\n",
            "Epoch 38 | Train loss 1.861 | Valid loss 1.256 | Valid acc 0.388\n",
            "Epoch 39 | Train loss 1.752 | Valid loss 1.287 | Valid acc 0.409\n",
            "0.5613079019073569 0.38635299625468167\n",
            "Train for 50 of epochs\n",
            "Epoch 0 | Train loss 1.658 | Valid loss 2.130 | Valid acc 0.230\n",
            "Epoch 1 | Train loss 1.762 | Valid loss 2.418 | Valid acc 0.416\n",
            "Epoch 2 | Train loss 1.865 | Valid loss 1.849 | Valid acc 0.536\n",
            "Epoch 3 | Train loss 1.797 | Valid loss 1.798 | Valid acc 0.369\n",
            "Epoch 4 | Train loss 1.780 | Valid loss 1.830 | Valid acc 0.225\n",
            "Epoch 5 | Train loss 1.717 | Valid loss 1.272 | Valid acc 0.568\n",
            "Epoch 6 | Train loss 1.834 | Valid loss 1.424 | Valid acc 0.540\n",
            "Epoch 7 | Train loss 1.817 | Valid loss 2.406 | Valid acc 0.401\n",
            "Epoch 8 | Train loss 1.748 | Valid loss 2.142 | Valid acc 0.426\n",
            "Epoch 9 | Train loss 1.898 | Valid loss 1.400 | Valid acc 0.412\n",
            "Epoch 10 | Train loss 1.752 | Valid loss 2.042 | Valid acc 0.388\n",
            "Epoch 11 | Train loss 1.734 | Valid loss 1.473 | Valid acc 0.546\n",
            "Epoch 12 | Train loss 1.867 | Valid loss 3.688 | Valid acc 0.411\n",
            "Epoch 13 | Train loss 1.707 | Valid loss 1.276 | Valid acc 0.558\n",
            "Epoch 14 | Train loss 1.743 | Valid loss 1.438 | Valid acc 0.559\n",
            "Epoch 15 | Train loss 1.797 | Valid loss 1.614 | Valid acc 0.412\n",
            "Epoch 16 | Train loss 1.688 | Valid loss 1.833 | Valid acc 0.382\n",
            "Epoch 17 | Train loss 1.811 | Valid loss 1.307 | Valid acc 0.409\n",
            "Epoch 18 | Train loss 1.635 | Valid loss 1.674 | Valid acc 0.547\n",
            "Epoch 19 | Train loss 1.716 | Valid loss 1.215 | Valid acc 0.552\n",
            "Epoch 20 | Train loss 1.754 | Valid loss 1.404 | Valid acc 0.381\n",
            "Epoch 21 | Train loss 1.700 | Valid loss 1.433 | Valid acc 0.392\n",
            "Epoch 22 | Train loss 1.735 | Valid loss 1.962 | Valid acc 0.214\n",
            "Epoch 23 | Train loss 1.701 | Valid loss 1.126 | Valid acc 0.540\n",
            "Epoch 24 | Train loss 1.734 | Valid loss 1.699 | Valid acc 0.371\n",
            "Epoch 25 | Train loss 1.711 | Valid loss 1.761 | Valid acc 0.230\n",
            "Epoch 26 | Train loss 1.656 | Valid loss 3.032 | Valid acc 0.244\n",
            "Epoch 27 | Train loss 1.864 | Valid loss 1.788 | Valid acc 0.396\n",
            "Epoch 28 | Train loss 1.817 | Valid loss 2.280 | Valid acc 0.252\n",
            "Epoch 29 | Train loss 1.693 | Valid loss 1.271 | Valid acc 0.385\n",
            "Epoch 30 | Train loss 1.680 | Valid loss 2.362 | Valid acc 0.237\n",
            "Epoch 31 | Train loss 1.860 | Valid loss 1.469 | Valid acc 0.557\n",
            "Epoch 32 | Train loss 1.700 | Valid loss 2.237 | Valid acc 0.227\n",
            "Epoch 33 | Train loss 1.738 | Valid loss 1.517 | Valid acc 0.242\n",
            "Epoch 34 | Train loss 1.648 | Valid loss 1.551 | Valid acc 0.554\n",
            "Epoch 35 | Train loss 1.698 | Valid loss 1.806 | Valid acc 0.371\n",
            "Epoch 36 | Train loss 1.767 | Valid loss 1.355 | Valid acc 0.558\n",
            "Epoch 37 | Train loss 1.936 | Valid loss 1.321 | Valid acc 0.545\n",
            "Epoch 38 | Train loss 1.813 | Valid loss 2.612 | Valid acc 0.401\n",
            "Epoch 39 | Train loss 1.852 | Valid loss 1.327 | Valid acc 0.363\n",
            "Epoch 40 | Train loss 1.760 | Valid loss 1.550 | Valid acc 0.415\n",
            "Epoch 41 | Train loss 1.700 | Valid loss 1.213 | Valid acc 0.551\n",
            "Epoch 42 | Train loss 1.640 | Valid loss 2.047 | Valid acc 0.223\n",
            "Epoch 43 | Train loss 1.720 | Valid loss 1.591 | Valid acc 0.544\n",
            "Epoch 44 | Train loss 1.688 | Valid loss 1.803 | Valid acc 0.410\n",
            "Epoch 45 | Train loss 1.665 | Valid loss 2.065 | Valid acc 0.394\n",
            "Epoch 46 | Train loss 1.603 | Valid loss 1.522 | Valid acc 0.225\n",
            "Epoch 47 | Train loss 1.723 | Valid loss 1.367 | Valid acc 0.381\n",
            "Epoch 48 | Train loss 1.691 | Valid loss 1.843 | Valid acc 0.419\n",
            "Epoch 49 | Train loss 1.627 | Valid loss 1.646 | Valid acc 0.233\n",
            "0.5676657584014533 0.38459737827715357\n"
          ],
          "name": "stdout"
        }
      ]
    },
    {
      "cell_type": "markdown",
      "metadata": {
        "id": "vvMmep4Augyc",
        "colab_type": "text"
      },
      "source": [
        "**Subtask 4**"
      ]
    },
    {
      "cell_type": "code",
      "metadata": {
        "id": "vlcd1imosbrF",
        "colab_type": "code",
        "outputId": "a0d692aa-cbfc-4090-8445-89fe4e715a70",
        "colab": {
          "base_uri": "https://localhost:8080/",
          "height": 1000
        }
      },
      "source": [
        "# tune the optimizer type and hyperparameters here\n",
        "dims = [64, 128, 256]\n",
        "\n",
        "for i in dims:\n",
        "  for j in dims:\n",
        "    embedding_dim, hidden_dim=i,j\n",
        "    print('\\nTrain for embedding dimension {0} and hidden dimension {1}'.format(i, j))\n",
        "    model = RNNClassifier(vocab_size, embedding_dim, hidden_dim, label_size, padding_idx)\n",
        "    model.cuda()\n",
        "    criterion = nn.CrossEntropyLoss()\n",
        "    criterion.cuda()\n",
        "    optimizer = optim.Adam(model.parameters(), lr=1e-1)\n",
        "\n",
        "\n",
        "    # train and test the model\n",
        "    # DO NOT MODIFY\n",
        "    best_valid_acc = 0.0\n",
        "    best_state_dict = copy.deepcopy(model.state_dict())\n",
        "    for epoch in range(20):\n",
        "        train_loss, train_acc = train(model, train_iter, optimizer, criterion)\n",
        "        valid_loss, valid_acc = evaluate(model, val_iter, criterion)\n",
        "\n",
        "        print('Epoch {} | Train loss {:.3f} | Valid loss {:.3f} | Valid acc {:.3f}'.format(epoch, train_loss, valid_loss, valid_acc))\n",
        "\n",
        "        if valid_acc > best_valid_acc:\n",
        "            best_valid_acc = valid_acc\n",
        "            best_state_dict = copy.deepcopy(model.state_dict())\n",
        "\n",
        "    print(best_valid_acc)"
      ],
      "execution_count": 0,
      "outputs": [
        {
          "output_type": "stream",
          "text": [
            "\n",
            "Train for embedding dimension 64 and hidden dimension 64\n",
            "Epoch 0 | Train loss 1.370 | Valid loss 1.297 | Valid acc 0.463\n",
            "Epoch 1 | Train loss 1.275 | Valid loss 1.394 | Valid acc 0.427\n",
            "Epoch 2 | Train loss 1.257 | Valid loss 1.478 | Valid acc 0.350\n",
            "Epoch 3 | Train loss 1.268 | Valid loss 1.109 | Valid acc 0.459\n",
            "Epoch 4 | Train loss 1.319 | Valid loss 1.250 | Valid acc 0.307\n",
            "Epoch 5 | Train loss 1.360 | Valid loss 1.689 | Valid acc 0.401\n",
            "Epoch 6 | Train loss 1.213 | Valid loss 1.283 | Valid acc 0.317\n",
            "Epoch 7 | Train loss 1.254 | Valid loss 1.041 | Valid acc 0.543\n",
            "Epoch 8 | Train loss 1.297 | Valid loss 1.076 | Valid acc 0.505\n",
            "Epoch 9 | Train loss 1.331 | Valid loss 1.176 | Valid acc 0.492\n",
            "Epoch 10 | Train loss 1.270 | Valid loss 1.156 | Valid acc 0.405\n",
            "Epoch 11 | Train loss 1.258 | Valid loss 1.394 | Valid acc 0.403\n",
            "Epoch 12 | Train loss 1.273 | Valid loss 1.485 | Valid acc 0.389\n",
            "Epoch 13 | Train loss 1.259 | Valid loss 1.219 | Valid acc 0.334\n",
            "Epoch 14 | Train loss 1.303 | Valid loss 1.135 | Valid acc 0.412\n",
            "Epoch 15 | Train loss 1.281 | Valid loss 1.125 | Valid acc 0.550\n",
            "Epoch 16 | Train loss 1.304 | Valid loss 1.136 | Valid acc 0.373\n",
            "Epoch 17 | Train loss 1.239 | Valid loss 1.218 | Valid acc 0.554\n",
            "Epoch 18 | Train loss 1.348 | Valid loss 1.424 | Valid acc 0.418\n",
            "Epoch 19 | Train loss 1.276 | Valid loss 1.214 | Valid acc 0.444\n",
            "0.5540417801998183\n",
            "\n",
            "Train for embedding dimension 64 and hidden dimension 128\n",
            "Epoch 0 | Train loss 1.837 | Valid loss 2.276 | Valid acc 0.346\n",
            "Epoch 1 | Train loss 1.931 | Valid loss 1.811 | Valid acc 0.366\n",
            "Epoch 2 | Train loss 1.687 | Valid loss 1.517 | Valid acc 0.397\n",
            "Epoch 3 | Train loss 1.943 | Valid loss 1.683 | Valid acc 0.392\n",
            "Epoch 4 | Train loss 1.663 | Valid loss 1.595 | Valid acc 0.398\n",
            "Epoch 5 | Train loss 1.563 | Valid loss 1.597 | Valid acc 0.278\n",
            "Epoch 6 | Train loss 1.736 | Valid loss 1.740 | Valid acc 0.373\n",
            "Epoch 7 | Train loss 1.639 | Valid loss 1.491 | Valid acc 0.235\n",
            "Epoch 8 | Train loss 1.688 | Valid loss 1.623 | Valid acc 0.505\n",
            "Epoch 9 | Train loss 1.773 | Valid loss 4.513 | Valid acc 0.225\n",
            "Epoch 10 | Train loss 1.847 | Valid loss 2.062 | Valid acc 0.539\n",
            "Epoch 11 | Train loss 1.856 | Valid loss 2.171 | Valid acc 0.383\n",
            "Epoch 12 | Train loss 2.045 | Valid loss 1.311 | Valid acc 0.455\n",
            "Epoch 13 | Train loss 1.862 | Valid loss 1.245 | Valid acc 0.539\n",
            "Epoch 14 | Train loss 1.899 | Valid loss 1.289 | Valid acc 0.280\n",
            "Epoch 15 | Train loss 1.781 | Valid loss 1.404 | Valid acc 0.373\n",
            "Epoch 16 | Train loss 1.848 | Valid loss 1.812 | Valid acc 0.232\n",
            "Epoch 17 | Train loss 2.030 | Valid loss 1.943 | Valid acc 0.401\n",
            "Epoch 18 | Train loss 1.947 | Valid loss 2.008 | Valid acc 0.220\n",
            "Epoch 19 | Train loss 2.062 | Valid loss 1.829 | Valid acc 0.254\n",
            "0.5386012715712988\n",
            "\n",
            "Train for embedding dimension 64 and hidden dimension 256\n",
            "Epoch 0 | Train loss 3.347 | Valid loss 2.984 | Valid acc 0.500\n",
            "Epoch 1 | Train loss 3.178 | Valid loss 3.094 | Valid acc 0.404\n",
            "Epoch 2 | Train loss 3.208 | Valid loss 2.788 | Valid acc 0.341\n",
            "Epoch 3 | Train loss 3.727 | Valid loss 2.766 | Valid acc 0.380\n",
            "Epoch 4 | Train loss 3.561 | Valid loss 3.772 | Valid acc 0.291\n",
            "Epoch 5 | Train loss 3.648 | Valid loss 4.505 | Valid acc 0.311\n",
            "Epoch 6 | Train loss 3.650 | Valid loss 3.305 | Valid acc 0.372\n",
            "Epoch 7 | Train loss 4.156 | Valid loss 3.829 | Valid acc 0.401\n",
            "Epoch 8 | Train loss 3.678 | Valid loss 4.058 | Valid acc 0.291\n",
            "Epoch 9 | Train loss 3.623 | Valid loss 3.993 | Valid acc 0.313\n",
            "Epoch 10 | Train loss 3.649 | Valid loss 6.051 | Valid acc 0.213\n",
            "Epoch 11 | Train loss 3.774 | Valid loss 3.086 | Valid acc 0.399\n",
            "Epoch 12 | Train loss 3.865 | Valid loss 6.331 | Valid acc 0.253\n",
            "Epoch 13 | Train loss 3.772 | Valid loss 3.797 | Valid acc 0.370\n",
            "Epoch 14 | Train loss 3.735 | Valid loss 4.117 | Valid acc 0.342\n",
            "Epoch 15 | Train loss 3.731 | Valid loss 5.792 | Valid acc 0.312\n",
            "Epoch 16 | Train loss 3.692 | Valid loss 3.486 | Valid acc 0.381\n",
            "Epoch 17 | Train loss 3.812 | Valid loss 4.508 | Valid acc 0.356\n",
            "Epoch 18 | Train loss 3.821 | Valid loss 4.155 | Valid acc 0.265\n",
            "Epoch 19 | Train loss 3.778 | Valid loss 3.031 | Valid acc 0.402\n",
            "0.5004541326067211\n",
            "\n",
            "Train for embedding dimension 128 and hidden dimension 64\n",
            "Epoch 0 | Train loss 1.436 | Valid loss 1.383 | Valid acc 0.262\n",
            "Epoch 1 | Train loss 1.343 | Valid loss 1.449 | Valid acc 0.348\n",
            "Epoch 2 | Train loss 1.372 | Valid loss 1.334 | Valid acc 0.313\n",
            "Epoch 3 | Train loss 1.411 | Valid loss 2.000 | Valid acc 0.216\n",
            "Epoch 4 | Train loss 1.372 | Valid loss 1.514 | Valid acc 0.264\n",
            "Epoch 5 | Train loss 1.299 | Valid loss 1.585 | Valid acc 0.236\n",
            "Epoch 6 | Train loss 1.402 | Valid loss 1.474 | Valid acc 0.220\n",
            "Epoch 7 | Train loss 1.372 | Valid loss 1.370 | Valid acc 0.397\n",
            "Epoch 8 | Train loss 1.377 | Valid loss 1.800 | Valid acc 0.402\n",
            "Epoch 9 | Train loss 1.363 | Valid loss 1.204 | Valid acc 0.408\n",
            "Epoch 10 | Train loss 1.299 | Valid loss 1.657 | Valid acc 0.230\n",
            "Epoch 11 | Train loss 1.365 | Valid loss 1.796 | Valid acc 0.412\n",
            "Epoch 12 | Train loss 1.354 | Valid loss 1.147 | Valid acc 0.532\n",
            "Epoch 13 | Train loss 1.359 | Valid loss 1.324 | Valid acc 0.242\n",
            "Epoch 14 | Train loss 1.381 | Valid loss 1.376 | Valid acc 0.376\n",
            "Epoch 15 | Train loss 1.336 | Valid loss 1.266 | Valid acc 0.403\n",
            "Epoch 16 | Train loss 1.466 | Valid loss 1.162 | Valid acc 0.379\n",
            "Epoch 17 | Train loss 1.328 | Valid loss 1.725 | Valid acc 0.384\n",
            "Epoch 18 | Train loss 1.413 | Valid loss 1.236 | Valid acc 0.382\n",
            "Epoch 19 | Train loss 1.467 | Valid loss 1.155 | Valid acc 0.415\n",
            "0.5322434150772025\n",
            "\n",
            "Train for embedding dimension 128 and hidden dimension 128\n",
            "Epoch 0 | Train loss 1.573 | Valid loss 1.246 | Valid acc 0.465\n",
            "Epoch 1 | Train loss 1.581 | Valid loss 1.287 | Valid acc 0.391\n",
            "Epoch 2 | Train loss 1.596 | Valid loss 1.583 | Valid acc 0.305\n",
            "Epoch 3 | Train loss 1.648 | Valid loss 1.564 | Valid acc 0.459\n",
            "Epoch 4 | Train loss 1.565 | Valid loss 1.287 | Valid acc 0.457\n",
            "Epoch 5 | Train loss 1.435 | Valid loss 1.458 | Valid acc 0.408\n",
            "Epoch 6 | Train loss 1.625 | Valid loss 1.317 | Valid acc 0.472\n",
            "Epoch 7 | Train loss 1.551 | Valid loss 2.168 | Valid acc 0.397\n",
            "Epoch 8 | Train loss 1.608 | Valid loss 1.678 | Valid acc 0.347\n",
            "Epoch 9 | Train loss 1.589 | Valid loss 1.477 | Valid acc 0.401\n",
            "Epoch 10 | Train loss 1.481 | Valid loss 2.190 | Valid acc 0.296\n",
            "Epoch 11 | Train loss 1.624 | Valid loss 1.251 | Valid acc 0.401\n",
            "Epoch 12 | Train loss 1.441 | Valid loss 1.162 | Valid acc 0.475\n",
            "Epoch 13 | Train loss 1.650 | Valid loss 1.213 | Valid acc 0.490\n",
            "Epoch 14 | Train loss 1.595 | Valid loss 1.423 | Valid acc 0.355\n",
            "Epoch 15 | Train loss 1.469 | Valid loss 1.471 | Valid acc 0.258\n",
            "Epoch 16 | Train loss 1.690 | Valid loss 1.592 | Valid acc 0.301\n",
            "Epoch 17 | Train loss 1.416 | Valid loss 1.435 | Valid acc 0.431\n",
            "Epoch 18 | Train loss 1.673 | Valid loss 1.457 | Valid acc 0.416\n",
            "Epoch 19 | Train loss 1.582 | Valid loss 1.208 | Valid acc 0.441\n",
            "0.4904632152588556\n",
            "\n",
            "Train for embedding dimension 128 and hidden dimension 256\n",
            "Epoch 0 | Train loss 3.204 | Valid loss 2.795 | Valid acc 0.453\n",
            "Epoch 1 | Train loss 2.530 | Valid loss 2.070 | Valid acc 0.442\n",
            "Epoch 2 | Train loss 2.706 | Valid loss 2.519 | Valid acc 0.548\n",
            "Epoch 3 | Train loss 2.988 | Valid loss 2.293 | Valid acc 0.356\n",
            "Epoch 4 | Train loss 2.876 | Valid loss 3.621 | Valid acc 0.396\n",
            "Epoch 5 | Train loss 3.002 | Valid loss 2.017 | Valid acc 0.415\n",
            "Epoch 6 | Train loss 3.275 | Valid loss 3.223 | Valid acc 0.246\n",
            "Epoch 7 | Train loss 2.941 | Valid loss 2.695 | Valid acc 0.396\n",
            "Epoch 8 | Train loss 3.085 | Valid loss 3.000 | Valid acc 0.366\n",
            "Epoch 9 | Train loss 3.247 | Valid loss 2.460 | Valid acc 0.354\n",
            "Epoch 10 | Train loss 3.068 | Valid loss 2.543 | Valid acc 0.363\n",
            "Epoch 11 | Train loss 3.248 | Valid loss 2.881 | Valid acc 0.416\n",
            "Epoch 12 | Train loss 3.189 | Valid loss 2.737 | Valid acc 0.305\n",
            "Epoch 13 | Train loss 3.181 | Valid loss 2.227 | Valid acc 0.488\n",
            "Epoch 14 | Train loss 2.616 | Valid loss 3.043 | Valid acc 0.260\n",
            "Epoch 15 | Train loss 2.847 | Valid loss 2.233 | Valid acc 0.504\n",
            "Epoch 16 | Train loss 2.884 | Valid loss 2.757 | Valid acc 0.330\n",
            "Epoch 17 | Train loss 3.017 | Valid loss 3.226 | Valid acc 0.359\n",
            "Epoch 18 | Train loss 3.093 | Valid loss 3.579 | Valid acc 0.394\n",
            "Epoch 19 | Train loss 3.029 | Valid loss 3.409 | Valid acc 0.506\n",
            "0.547683923705722\n",
            "\n",
            "Train for embedding dimension 256 and hidden dimension 64\n",
            "Epoch 0 | Train loss 1.398 | Valid loss 1.691 | Valid acc 0.228\n",
            "Epoch 1 | Train loss 1.323 | Valid loss 1.113 | Valid acc 0.561\n",
            "Epoch 2 | Train loss 1.352 | Valid loss 1.162 | Valid acc 0.407\n",
            "Epoch 3 | Train loss 1.464 | Valid loss 1.219 | Valid acc 0.559\n",
            "Epoch 4 | Train loss 1.394 | Valid loss 1.137 | Valid acc 0.381\n",
            "Epoch 5 | Train loss 1.235 | Valid loss 1.260 | Valid acc 0.559\n",
            "Epoch 6 | Train loss 1.242 | Valid loss 1.427 | Valid acc 0.234\n",
            "Epoch 7 | Train loss 1.298 | Valid loss 1.216 | Valid acc 0.252\n",
            "Epoch 8 | Train loss 1.422 | Valid loss 1.415 | Valid acc 0.252\n",
            "Epoch 9 | Train loss 1.263 | Valid loss 1.561 | Valid acc 0.243\n",
            "Epoch 10 | Train loss 1.226 | Valid loss 1.109 | Valid acc 0.548\n",
            "Epoch 11 | Train loss 1.275 | Valid loss 1.076 | Valid acc 0.559\n",
            "Epoch 12 | Train loss 1.332 | Valid loss 1.146 | Valid acc 0.395\n",
            "Epoch 13 | Train loss 1.241 | Valid loss 1.427 | Valid acc 0.232\n",
            "Epoch 14 | Train loss 1.300 | Valid loss 1.534 | Valid acc 0.221\n",
            "Epoch 15 | Train loss 1.296 | Valid loss 1.395 | Valid acc 0.415\n",
            "Epoch 16 | Train loss 1.248 | Valid loss 1.370 | Valid acc 0.415\n",
            "Epoch 17 | Train loss 1.263 | Valid loss 1.286 | Valid acc 0.229\n",
            "Epoch 18 | Train loss 1.269 | Valid loss 1.051 | Valid acc 0.547\n",
            "Epoch 19 | Train loss 1.245 | Valid loss 1.300 | Valid acc 0.245\n",
            "0.5613079019073569\n",
            "\n",
            "Train for embedding dimension 256 and hidden dimension 128\n",
            "Epoch 0 | Train loss 1.657 | Valid loss 1.295 | Valid acc 0.484\n",
            "Epoch 1 | Train loss 1.691 | Valid loss 1.443 | Valid acc 0.390\n",
            "Epoch 2 | Train loss 1.778 | Valid loss 1.670 | Valid acc 0.397\n",
            "Epoch 3 | Train loss 1.738 | Valid loss 1.185 | Valid acc 0.508\n",
            "Epoch 4 | Train loss 1.657 | Valid loss 2.345 | Valid acc 0.417\n",
            "Epoch 5 | Train loss 1.935 | Valid loss 2.073 | Valid acc 0.409\n",
            "Epoch 6 | Train loss 1.852 | Valid loss 1.350 | Valid acc 0.421\n",
            "Epoch 7 | Train loss 1.783 | Valid loss 1.569 | Valid acc 0.541\n",
            "Epoch 8 | Train loss 1.678 | Valid loss 2.035 | Valid acc 0.400\n",
            "Epoch 9 | Train loss 1.539 | Valid loss 1.302 | Valid acc 0.341\n",
            "Epoch 10 | Train loss 1.598 | Valid loss 1.351 | Valid acc 0.512\n",
            "Epoch 11 | Train loss 1.856 | Valid loss 2.072 | Valid acc 0.399\n",
            "Epoch 12 | Train loss 1.702 | Valid loss 2.613 | Valid acc 0.244\n",
            "Epoch 13 | Train loss 1.775 | Valid loss 1.709 | Valid acc 0.372\n",
            "Epoch 14 | Train loss 1.719 | Valid loss 1.880 | Valid acc 0.374\n",
            "Epoch 15 | Train loss 1.879 | Valid loss 1.281 | Valid acc 0.454\n",
            "Epoch 16 | Train loss 1.661 | Valid loss 1.402 | Valid acc 0.544\n",
            "Epoch 17 | Train loss 1.678 | Valid loss 1.747 | Valid acc 0.403\n",
            "Epoch 18 | Train loss 1.686 | Valid loss 1.987 | Valid acc 0.237\n",
            "Epoch 19 | Train loss 1.710 | Valid loss 1.743 | Valid acc 0.233\n",
            "0.5440508628519528\n",
            "\n",
            "Train for embedding dimension 256 and hidden dimension 256\n",
            "Epoch 0 | Train loss 2.817 | Valid loss 3.497 | Valid acc 0.336\n",
            "Epoch 1 | Train loss 3.068 | Valid loss 2.170 | Valid acc 0.393\n",
            "Epoch 2 | Train loss 3.488 | Valid loss 1.931 | Valid acc 0.448\n",
            "Epoch 3 | Train loss 3.144 | Valid loss 1.484 | Valid acc 0.410\n",
            "Epoch 4 | Train loss 2.579 | Valid loss 1.612 | Valid acc 0.459\n",
            "Epoch 5 | Train loss 2.473 | Valid loss 1.633 | Valid acc 0.306\n",
            "Epoch 6 | Train loss 2.455 | Valid loss 2.734 | Valid acc 0.390\n",
            "Epoch 7 | Train loss 2.810 | Valid loss 1.601 | Valid acc 0.490\n",
            "Epoch 8 | Train loss 2.202 | Valid loss 1.664 | Valid acc 0.333\n",
            "Epoch 9 | Train loss 2.487 | Valid loss 3.886 | Valid acc 0.242\n",
            "Epoch 10 | Train loss 3.328 | Valid loss 1.651 | Valid acc 0.428\n",
            "Epoch 11 | Train loss 2.654 | Valid loss 1.472 | Valid acc 0.399\n",
            "Epoch 12 | Train loss 2.157 | Valid loss 3.603 | Valid acc 0.233\n",
            "Epoch 13 | Train loss 2.138 | Valid loss 2.461 | Valid acc 0.392\n",
            "Epoch 14 | Train loss 2.169 | Valid loss 2.027 | Valid acc 0.392\n",
            "Epoch 15 | Train loss 2.913 | Valid loss 1.668 | Valid acc 0.434\n",
            "Epoch 16 | Train loss 2.810 | Valid loss 1.522 | Valid acc 0.304\n",
            "Epoch 17 | Train loss 2.749 | Valid loss 2.069 | Valid acc 0.276\n",
            "Epoch 18 | Train loss 3.068 | Valid loss 2.158 | Valid acc 0.268\n",
            "Epoch 19 | Train loss 2.802 | Valid loss 1.700 | Valid acc 0.279\n",
            "0.4895549500454133\n"
          ],
          "name": "stdout"
        }
      ]
    },
    {
      "cell_type": "markdown",
      "metadata": {
        "id": "4EgT69I1reZ4",
        "colab_type": "text"
      },
      "source": [
        "Once we find the best hyperparameters for the validation set, we can now evaluate our model on the test set."
      ]
    },
    {
      "cell_type": "code",
      "metadata": {
        "id": "rPDvglccrdWt",
        "colab_type": "code",
        "colab": {}
      },
      "source": [
        "model.load_state_dict(best_state_dict)\n",
        "test_loss, test_acc = evaluate(model, test_iter, criterion)\n",
        "print('Test loss {:.3f} | Test acc {:.3f}'.format(test_loss, test_acc))"
      ],
      "execution_count": 0,
      "outputs": []
    },
    {
      "cell_type": "markdown",
      "metadata": {
        "id": "PbqSAz90zBYi",
        "colab_type": "text"
      },
      "source": [
        "### 1) Implement the RNN model"
      ]
    },
    {
      "cell_type": "markdown",
      "metadata": {
        "id": "Y_5KEDzgzVxT",
        "colab_type": "text"
      },
      "source": [
        "The current codes of the RNN model are not complete, so let's first complete the codes to implement a standard RNN model by filling in the [block](https://colab.research.google.com/drive/1mhhF9FPHSmePtVQrhNBwRujfUkOjUspj#scrollTo=kWUKPgDGNQSr)."
      ]
    },
    {
      "cell_type": "markdown",
      "metadata": {
        "id": "UiDCl9J0zIKO",
        "colab_type": "text"
      },
      "source": [
        "- **Subtask 1-1: Creating all the Required Layers in Your Model**\n",
        "\n",
        "Remember that when building a deep learning model, we first need to complete the **init** function by creating all the required layers. In our case, since we are using RNNs for sentence classification, we need an embedding layer to transform words into word embeddings, a RNN layer to transform word embeddings into sentence encodings, an activation function, and a linear layer as well as a softmax function for sentence classification.\n",
        "\n",
        "Based on that, please create all the necessary layers of your RNN model in the **init** function. Note that we have already added the word embedding layer for you."
      ]
    },
    {
      "cell_type": "markdown",
      "metadata": {
        "id": "tF_dE-TqzL0A",
        "colab_type": "text"
      },
      "source": [
        "- **Subtask 1-2: Implementing the Function for Initializing Hidden States**\n",
        "\n",
        "Remember that when applying a RNN unit to transform word embeddings into sentence encodings, the RNN unit starts from an initial hidden vector with all zero values, and sequentially read each word to update the hidden vector. Finally, the hidden vector obtained after reading the last word is treated as the sentence encoding.\n",
        "\n",
        "In this step, please implement the **zero_state** function, which returns a batch of initial hidden vectors given a batch size. Hint: your function should return a tensor with all the values being zero, and you may refer to the [official document](https://pytorch.org/docs/stable/nn.html#rnn) for the correct shape of the tensor."
      ]
    },
    {
      "cell_type": "markdown",
      "metadata": {
        "id": "kGiPTOnY28Iq",
        "colab_type": "text"
      },
      "source": [
        "- **Subtask 1-3: Implementing the Forward Function**\n",
        "\n",
        "Finally, we are ready to build the forward function, which takes a batch of sentences as inputs and returns a batch of logits. To be more specific, the input is given by the tensor called $\\text{text}$, and the size of the tensor is $(B, L)$, with $B$ being the batch size, $L$ being the maximum length of sentencees in this batch and $\\text{text}[i, j]$ being the interger id of the $j$-th word in the $i$-th sentence. Given this tensor as input, your forward function should return a logit tensor of size $(B, C)$, with $B$ being the batch size and $C$ being the number of possible classes.\n",
        "\n",
        "Please implement the forward function based on the above instructions. Note that we have already applied the word embedding layer to the text input, and obtained a tensor called $\\text{embedding}$, and the size of the tensor is $(B, L, D)$, where $D$ is the word embedding dimension. You can directly operate on the $\\text{embedding}$ tensor to compute the logits."
      ]
    },
    {
      "cell_type": "markdown",
      "metadata": {
        "id": "nUL9zYw4y_IZ",
        "colab_type": "text"
      },
      "source": [
        "### 2) Compare Different Optimizers"
      ]
    },
    {
      "cell_type": "markdown",
      "metadata": {
        "id": "SeKKFSkzzUA_",
        "colab_type": "text"
      },
      "source": [
        "In the previous task, we have implemented a RNN model for sentiment analysis, or more generally sentence classification.\n",
        "\n",
        "To better understand several concepts in deep learning, let's do some ablation studies by using the model we have just implemented.\n",
        "\n",
        "The first task is to try different optimizers for your model, where for each optimizer, you may also try different options of learning rate. \n"
      ]
    },
    {
      "cell_type": "markdown",
      "metadata": {
        "id": "kNlnDbZtqHgi",
        "colab_type": "text"
      },
      "source": [
        "- **Subtask 2-1: Completing the Table**\n",
        "\n",
        "We have provided the following table for different combinations of optimizers and learning rate, please write down the **validation accuracy** of your model with different optimizers and learning rates.\n",
        "\n",
        "|         | 0.1  | 0.01 | 0.001|0.0001|\n",
        "|---------|------|------|------|------|\n",
        "| SGD     |55.40 |39.34 |32.70 |32.06 |\n",
        "| Adam    |55.50 |54.50 |41.60 |39.60 |\n",
        "| RMSprop |54.95 |55.31 |54.68 |40.24 |"
      ]
    },
    {
      "cell_type": "markdown",
      "metadata": {
        "id": "nVVd5b9rzSFA",
        "colab_type": "text"
      },
      "source": [
        "- **Subtask 2-2: Explaining your Observations**\n",
        "\n",
        "Based on your results, briefly explain your observations, e.g., which optimizer works the best, what is the optimal learning rate for each optimizer?\n",
        "\n",
        "*Your Answer:*\n",
        "\n",
        "Based on the results, the optimizers that worked the best were Adam and RMSprop with the highest validation accuracy. The optimal learning rate for each optimizer is of 0.1 for SGD, 0.1 for Adam, and 0.01 for RMSprop based on the highest accuracy; overall, per learning rate RMSprop had the higher accuracy. However, these accuracies are specific to the data and the runs made. A good way to compare learning rates is to use a learning curve."
      ]
    },
    {
      "cell_type": "markdown",
      "metadata": {
        "id": "dyy7qpHtzYJn",
        "colab_type": "text"
      },
      "source": [
        "### 3) Compare the Results under Different Epoches"
      ]
    },
    {
      "cell_type": "markdown",
      "metadata": {
        "id": "mhXQERRizZO6",
        "colab_type": "text"
      },
      "source": [
        "In this task, we hope to compare the results of our model under different training epoches, and answer a question."
      ]
    },
    {
      "cell_type": "markdown",
      "metadata": {
        "id": "9JBBjTGd1zis",
        "colab_type": "text"
      },
      "source": [
        "- **Subtask 3-1: Completing the Table**\n",
        "\n",
        "We have provided the following table, please write down the **training accuracy** and **validation accuracy** of your model under different epochs.\n",
        "\n",
        "|                    |  10  |  20  |  30  |  40  |  50  |\n",
        "|--------------------|------|------|------|------|------|\n",
        "| Training Accuracy  |38.46 |38.90 |39.54 |39.41 |39.03 |\n",
        "| Validation Accuracy|54.77 |53.41 |56.04 |55.31 |56.31 |\n"
      ]
    },
    {
      "cell_type": "markdown",
      "metadata": {
        "id": "l82_FjXazdod",
        "colab_type": "text"
      },
      "source": [
        "- **Subtask 3-2: Answering the Question**\n",
        "\n",
        "Is it always better to train a model for more epochs? How can we decide when should we stop training?\n",
        "\n",
        "*Your Answer:*\n",
        "\n",
        "Generally, a larger number of epochs is preferred given the complexity and variability of data; however, it is not always better to train for more epochs, as too many epochs can lead to overfitting on the training set and poor performance on the test set. We can decide when to stop training by using early stopping, a regularization technique which stops training at the point when performance on the validation set starts to degrade."
      ]
    },
    {
      "cell_type": "markdown",
      "metadata": {
        "id": "066JcRvAze7f",
        "colab_type": "text"
      },
      "source": [
        "### 4) Compare Different Model Capacities/Configurations"
      ]
    },
    {
      "cell_type": "markdown",
      "metadata": {
        "id": "agxhZpHYzjIR",
        "colab_type": "text"
      },
      "source": [
        "In practice, we may also vary the capacity of our model to find the optimal choice. In this part, please try different configurations of your model, which have different model capacities. Based on your observation, please also answer a question."
      ]
    },
    {
      "cell_type": "markdown",
      "metadata": {
        "id": "3fp2QC2Pzkja",
        "colab_type": "text"
      },
      "source": [
        "- **Subtask 4-1: Completing the Table**\n",
        "\n",
        "Please write down the **validation accuracy** of your model under different model capacities (i.e., specified by the word embedding dimension and the hidden layer dimension).\n",
        "\n",
        "|Embedding dim / Hidden dim |  64  |  128  |  256 |\n",
        "|---------------------------|------|-------|------|\n",
        "| 64                        |55.40 |53.86 |50.04 |\n",
        "| 128                       |53.22 |49.04  |54.76 |\n",
        "| 256                       |56.13 |54.40 |48.96 |"
      ]
    },
    {
      "cell_type": "markdown",
      "metadata": {
        "colab_type": "text",
        "id": "mY-OzP6E4JWU"
      },
      "source": [
        "- **Subtask 4-2: Answering the Question**\n",
        "\n",
        "Is it always better to increase model capacities in this case? Is it always better to increase model capacities in general? How to decide a proper model capacity in practice?\n",
        "\n",
        "*Your Answer:*\n",
        "\n",
        "In our results it seems like a lower capacity performs better. Typically, in the case of RNNs for sentence classification, a higher capacity is better due to the vocabulary involved.  In general, increasing the capacity of the model can be good up to a point. Increasing the capacity too much can lead to overfitting, likewise having too low of a capacity can lead to underfitting. In practice, we can decide on a proper model capacity using cross-validation to test the accuracy of different architectures on the validation set. "
      ]
    }
  ]
}